{
 "cells": [
  {
   "cell_type": "raw",
   "metadata": {},
   "source": [
    "\n",
    "<script>\n",
    "  function code_toggle() {\n",
    "    if (code_shown){\n",
    "      $('div.input').hide('500');\n",
    "      $('#toggleButton').val('Show Code')\n",
    "    } else {\n",
    "      $('div.input').show('500');\n",
    "      $('#toggleButton').val('Hide Code')\n",
    "    }\n",
    "    code_shown = !code_shown\n",
    "  }\n",
    "\n",
    "  $( document ).ready(function(){\n",
    "    code_shown=false;\n",
    "    $('div.input').hide()\n",
    "  });\n",
    "</script>\n",
    "<form action=\"javascript:code_toggle()\"><input type=\"submit\" id=\"toggleButton\" value=\"Show Code\"></form>\n",
    "\n",
    "<script>\n",
    "  jQuery(document).ready(function($) {\n",
    "\n",
    "  $(window).load(function(){\n",
    "    $('#preloader').fadeOut('slow',function(){$(this).remove();});\n",
    "  });\n",
    "\n",
    "  });\n",
    "</script>\n",
    "\n",
    "<style type=\"text/css\">\n",
    "  div#preloader { position: fixed;\n",
    "      left: 0;\n",
    "      top: 0;\n",
    "      z-index: 999;\n",
    "      width: 100%;\n",
    "      height: 100%;\n",
    "      overflow: visible;\n",
    "      background: #fff url('http://preloaders.net/preloaders/720/Moving%20line.gif') no-repeat center center;\n",
    "  }\n",
    "\n",
    "</style>\n",
    "\n",
    "<div id=\"preloader\"></div>\n"
   ]
  },
  {
   "cell_type": "code",
   "execution_count": 1,
   "metadata": {
    "hideCode": true,
    "hideOutput": true,
    "hidePrompt": true
   },
   "outputs": [
    {
     "name": "stdout",
     "output_type": "stream",
     "text": [
      "[nltk_data] Downloading package stopwords to /home/andrea/nltk_data...\n",
      "[nltk_data]   Package stopwords is already up-to-date!\n"
     ]
    },
    {
     "data": {
      "text/plain": [
       "True"
      ]
     },
     "execution_count": 1,
     "metadata": {},
     "output_type": "execute_result"
    }
   ],
   "source": [
    "%matplotlib inline  \n",
    "import re\n",
    "import pandas as pd\n",
    "import boto3\n",
    "import unicodedata\n",
    "import os\n",
    "import collections\n",
    "import functools\n",
    "import nltk\n",
    "from nltk.corpus import stopwords\n",
    "import graphviz as gv\n",
    "\n",
    "import matplotlib.pyplot as plt\n",
    "import gensim\n",
    "import pyLDAvis.gensim as gensimvis\n",
    "import pyLDAvis\n",
    "from gensim import models\n",
    "from gensim.corpora import Dictionary, MmCorpus\n",
    "from gensim.models import CoherenceModel\n",
    "from gensim.models.wrappers import LdaVowpalWabbit, LdaMallet\n",
    "from gensim.corpora import Dictionary\n",
    "\n",
    "nltk.download('stopwords')"
   ]
  },
  {
   "cell_type": "markdown",
   "metadata": {},
   "source": [
    "# Análisis de Texto de Programas Sociales\n",
    "\n",
    "En México existen alrededor de 5,491 programas sociales a nivel federal, estatal y municipal lo cual conlleva a varios retos en cuanto a coordinación entre los distintos niveles e instituciones. Al no existir suficientes mecanismos para compartir información homogénea y sistematizada sobre los objetivos, acciones y  beneficiarios, se pueden llegar a observar programas similares o esfuerzos duplicados. \n",
    "\n",
    "Con el objetivo de conocer y entender los distintos programas sociales, sus temáticas y similitudes, se realizó un análisis utilizando procesamiento de texto y aprendizaje no supervisado utilizando la información de los objetivos de cada programa. El análisis fue realizado para 43 de los 149 programas sociales a nivel federal; sin embargo, el estudio puede ser fácilmente replicable y robusto para incluir más programas. \n",
    " "
   ]
  },
  {
   "cell_type": "markdown",
   "metadata": {
    "hideCode": false,
    "hidePrompt": true
   },
   "source": [
    "## Metodología"
   ]
  },
  {
   "cell_type": "markdown",
   "metadata": {
    "hideCode": false,
    "hidePrompt": true
   },
   "source": [
    "En este estudió se utilizaron herramientas y modelos de análisis de texto, el cual es utilizado para generar análisis de documentos y en especial utilizado para:\n",
    "\n",
    "* Recuperación de información\n",
    "* Clustering y Categorización de Texto\n",
    "* Resumir información\n",
    "* Visualización\n",
    "\n",
    "Existen diferentes paradigmas para realizar análisis de texto como generación de reglas de palabras, generación de reglas lingüísticas o gramaticales que implican cierto grado de conocimiento léxico importante y métodos de aprendizaje de máquina. Actualmente, los métodos de aprendizaje de máquina y estadística han sido fuertemente utilizados ya que  aproveche las estructuras lógicas y gramaticales del texto con buenos resultados. El enfoque más común es el Procesamiento de Texto Natural el cual será descrito en este documento y los pasos pueden describirse en el diagrama siguiente:\n",
    "\n"
   ]
  },
  {
   "cell_type": "code",
   "execution_count": 23,
   "metadata": {
    "hideCode": false,
    "hidePrompt": true
   },
   "outputs": [],
   "source": [
    "# Generate graph\n",
    "graph = functools.partial(gv.Graph, format='png')\n",
    "digraph = functools.partial(gv.Digraph, format='png')\n",
    "\n",
    "styles = {\n",
    "    'graph': {\n",
    "        'fontsize': '16',\n",
    "    },\n",
    "    'nodes': {\n",
    "        'fontname': 'Helvetica',\n",
    "        'shape': 'oval',\n",
    "        'fontcolor': 'white',\n",
    "        'color': 'white',\n",
    "        'style': 'filled',\n",
    "        'fillcolor': 'darkcyan',\n",
    "    },\n",
    "    'edges': {\n",
    "        'color': 'grey',\n",
    "        'arrowsize': '2.5',\n",
    "        'fontcolor': 'grey',\n",
    "    }\n",
    "}\n",
    "\n",
    "def add_nodes(graph, nodes):\n",
    "    for n in nodes:\n",
    "        if isinstance(n, tuple):\n",
    "            graph.node(n[0], **n[1])\n",
    "        else:\n",
    "            graph.node(n)\n",
    "    return graph\n",
    "\n",
    "def add_edges(graph, edges):\n",
    "    for e in edges:\n",
    "        if isinstance(e[0], tuple):\n",
    "            graph.edge(e[0], **e[1])\n",
    "        else:\n",
    "            graph.edge(*e)\n",
    "    return graph\n",
    "\n",
    "\n",
    "def apply_styles(graph, styles):\n",
    "    graph.graph_attr.update(\n",
    "        ('graph' in styles and styles['graph']) or {}\n",
    "    )\n",
    "    graph.node_attr.update(\n",
    "        ('nodes' in styles and styles['nodes']) or {}\n",
    "    )\n",
    "    graph.edge_attr.update(\n",
    "        ('edges' in styles and styles['edges']) or {}\n",
    "    )\n",
    "    return graph\n"
   ]
  },
  {
   "cell_type": "code",
   "execution_count": 3,
   "metadata": {
    "hideCode": true,
    "hidePrompt": true
   },
   "outputs": [
    {
     "data": {
      "image/svg+xml": [
       "<?xml version=\"1.0\" encoding=\"UTF-8\" standalone=\"no\"?>\n",
       "<!DOCTYPE svg PUBLIC \"-//W3C//DTD SVG 1.1//EN\"\n",
       " \"http://www.w3.org/Graphics/SVG/1.1/DTD/svg11.dtd\">\n",
       "<!-- Generated by graphviz version 2.38.0 (20140413.2041)\n",
       " -->\n",
       "<!-- Title: %3 Pages: 1 -->\n",
       "<svg width=\"199pt\" height=\"260pt\"\n",
       " viewBox=\"0.00 0.00 199.08 260.00\" xmlns=\"http://www.w3.org/2000/svg\" xmlns:xlink=\"http://www.w3.org/1999/xlink\">\n",
       "<g id=\"graph0\" class=\"graph\" transform=\"scale(1 1) rotate(0) translate(4 256)\">\n",
       "<title>%3</title>\n",
       "<polygon fill=\"white\" stroke=\"none\" points=\"-4,4 -4,-256 195.083,-256 195.083,4 -4,4\"/>\n",
       "<!-- A -->\n",
       "<g id=\"node1\" class=\"node\"><title>A</title>\n",
       "<ellipse fill=\"darkcyan\" stroke=\"white\" cx=\"95.5415\" cy=\"-234\" rx=\"82.5854\" ry=\"18\"/>\n",
       "<text text-anchor=\"middle\" x=\"95.5415\" y=\"-230.3\" font-family=\"Helvetica,sans-Serif\" font-size=\"14.00\" fill=\"white\">Preprocesamiento</text>\n",
       "</g>\n",
       "<!-- B -->\n",
       "<g id=\"node2\" class=\"node\"><title>B</title>\n",
       "<ellipse fill=\"darkcyan\" stroke=\"white\" cx=\"95.5415\" cy=\"-162\" rx=\"95.5831\" ry=\"18\"/>\n",
       "<text text-anchor=\"middle\" x=\"95.5415\" y=\"-158.3\" font-family=\"Helvetica,sans-Serif\" font-size=\"14.00\" fill=\"white\">Variables Lingüisticas</text>\n",
       "</g>\n",
       "<!-- A&#45;&gt;B -->\n",
       "<g id=\"edge1\" class=\"edge\"><title>A&#45;&gt;B</title>\n",
       "<path fill=\"none\" stroke=\"grey\" d=\"M95.5415,-215.697C95.5415,-212.475 95.5415,-208.983 95.5415,-205.381\"/>\n",
       "<polygon fill=\"grey\" stroke=\"grey\" points=\"104.292,-205.104 95.5415,-180.104 86.7916,-205.104 104.292,-205.104\"/>\n",
       "</g>\n",
       "<!-- C -->\n",
       "<g id=\"node3\" class=\"node\"><title>C</title>\n",
       "<ellipse fill=\"darkcyan\" stroke=\"white\" cx=\"95.5415\" cy=\"-90\" rx=\"70.6878\" ry=\"18\"/>\n",
       "<text text-anchor=\"middle\" x=\"95.5415\" y=\"-86.3\" font-family=\"Helvetica,sans-Serif\" font-size=\"14.00\" fill=\"white\">Matrix / Corpus</text>\n",
       "</g>\n",
       "<!-- B&#45;&gt;C -->\n",
       "<g id=\"edge2\" class=\"edge\"><title>B&#45;&gt;C</title>\n",
       "<path fill=\"none\" stroke=\"grey\" d=\"M95.5415,-143.697C95.5415,-140.475 95.5415,-136.983 95.5415,-133.381\"/>\n",
       "<polygon fill=\"grey\" stroke=\"grey\" points=\"104.292,-133.104 95.5415,-108.104 86.7916,-133.104 104.292,-133.104\"/>\n",
       "</g>\n",
       "<!-- D -->\n",
       "<g id=\"node4\" class=\"node\"><title>D</title>\n",
       "<ellipse fill=\"darkcyan\" stroke=\"white\" cx=\"95.5415\" cy=\"-18\" rx=\"77.1866\" ry=\"18\"/>\n",
       "<text text-anchor=\"middle\" x=\"95.5415\" y=\"-14.3\" font-family=\"Helvetica,sans-Serif\" font-size=\"14.00\" fill=\"white\">Análisis de Texto</text>\n",
       "</g>\n",
       "<!-- C&#45;&gt;D -->\n",
       "<g id=\"edge3\" class=\"edge\"><title>C&#45;&gt;D</title>\n",
       "<path fill=\"none\" stroke=\"grey\" d=\"M95.5415,-71.6966C95.5415,-68.4754 95.5415,-64.9828 95.5415,-61.381\"/>\n",
       "<polygon fill=\"grey\" stroke=\"grey\" points=\"104.292,-61.1043 95.5415,-36.1043 86.7916,-61.1044 104.292,-61.1043\"/>\n",
       "</g>\n",
       "</g>\n",
       "</svg>\n"
      ],
      "text/plain": [
       "<graphviz.dot.Digraph at 0x7f63e988a748>"
      ]
     },
     "execution_count": 3,
     "metadata": {},
     "output_type": "execute_result"
    }
   ],
   "source": [
    "g = add_edges(\n",
    "    add_nodes(digraph(), [\n",
    "        ('A', {'label': 'Preprocesamiento'}),\n",
    "        ('B', {'label': 'Variables Lingüisticas'}),\n",
    "        ('C', {'label': 'Matrix / Corpus'}),\n",
    "        ('D', {'label': 'Análisis de Texto'})\n",
    "    ]),\n",
    "    [\n",
    "        ('A', 'B'),\n",
    "        ('B', 'C'),\n",
    "        ('C', 'D')\n",
    "    ]\n",
    ")\n",
    "g = apply_styles(g, styles)\n",
    "g"
   ]
  },
  {
   "cell_type": "markdown",
   "metadata": {
    "hideCode": false,
    "hideOutput": false,
    "hidePrompt": true
   },
   "source": [
    "### Glosario\n",
    "\n",
    "* **Corpus:** El corpus es el conjunto de todos los archivos/textos utilizadas para el análisis.    \n",
    "* **Tokenize:** Es el proceso en el que el texto es separado en frases o términos útiles, en la mayoría de los casos es el proceso de separar las palabras por espacios en blanco. Sin embargo, puede ser más complicado automatizar para grupos o conjunto de palabras que constituyen frases.    \n",
    "* **Stemming:** Es el proceso de normalización del texto reduciendo las palabras y conjugaciones a la raíz o forma más básica de la palabra. Esta normalización puede hacerse de forma sencilla eliminando sufijos y prefijos, actualmente existen nuevos métodos que pueden convertir palabras como hecho/hacer a una misma raíz.    \n",
    "* **TF-IDF:** TF-IDF (term frequency-inverse document frequency), es un métodos que sirve para darle mayor peso a palabras que se repiten más en un mismo documento con relación a los demás documentos.    \n",
    "* **Stop Words:** Es la lista de palabras que tienen poco significado semántico pero ocurren muy frecuentemente, como preposiciones, artículos, pronombres."
   ]
  },
  {
   "cell_type": "code",
   "execution_count": 4,
   "metadata": {
    "hideCode": true,
    "hidePrompt": true
   },
   "outputs": [],
   "source": [
    "def notempty(string):\n",
    "    \"\"\"\n",
    "    Checks if string exists\n",
    "    if it does no exists returns an empty string\n",
    "    \n",
    "    :params: string to check\n",
    "    :rtype: str\n",
    "    \"\"\"\n",
    "    if string:\n",
    "        return string\n",
    "    else:\n",
    "        return ''\n",
    "\n",
    "def obj_esp_union(row):\n",
    "    \"\"\"\n",
    "    Function that concatenates all general and specific objetives\n",
    "    of each subprogram\n",
    "    \n",
    "    :param: row of a dataframe\n",
    "    \n",
    "    :returns: text_union\n",
    "    :rtype: string\n",
    "    \"\"\"\n",
    "    text_union = (\"\"\"{subprograma} {obj_g1} {obj_e1} {obj_e2} {obj_e3} {obj_e4} {obj_e5} {pob_obj} \n",
    "                    \"\"\".format(subprograma=notempty(row['nombre_subprograma']),\n",
    "                               obj_g1=notempty(row['obj_gral_prog_1']),\n",
    "                               obj_e1=notempty(row['obj_esp_prog_1']),\n",
    "                               obj_e2=notempty(row['obj_esp_prog_2']),\n",
    "                               obj_e3=notempty(row['obj_esp_prog_3']),\n",
    "                               obj_e4=notempty(row['obj_esp_prog_4']),\n",
    "                               obj_e5=notempty(row['obj_esp_prog_5']),\n",
    "                               pob_obj=notempty(row['pob_obj_prog'])\n",
    "                              ))\n",
    "    return text_union\n",
    "\n",
    "def all_objetivos_union(rows):\n",
    "    \"\"\"\n",
    "    Concatenates all rows of subprogramas to have\n",
    "    only one text for the programa\n",
    "    \n",
    "    :param: rows of dataframe\n",
    "    :rtype: string\n",
    "    \"\"\"\n",
    "    nombres = [x for x in rows['nombre_programa']]\n",
    "    nombres = \" \".join(list(set(nombres)))\n",
    "    objetivos_grales = [x for x in rows['obj_gral_prog_1']]\n",
    "    objetivos_grales = \" \".join(list(set(objetivos_grales)))\n",
    "    \n",
    "    return nombres + ' ' + objetivos_grales + ' ' + \" \".join(rows['objetivos_especificos'])"
   ]
  },
  {
   "cell_type": "code",
   "execution_count": 5,
   "metadata": {
    "hideCode": true,
    "hidePrompt": true
   },
   "outputs": [],
   "source": [
    "def clean_strings(var_string):\n",
    "    \"\"\"\n",
    "    Function that cleans strings removing digits and simbols   \n",
    "    :params: var_string string to clean\n",
    "    :rtype: str\n",
    "    \"\"\"\n",
    "    if isinstance(var_string, str):\n",
    "        var_string = re.sub(r'[^\\w\\s]','',var_string)\n",
    "        sub_string = \" \".join(re.findall(\"[a-zA-Z]+\", var_string))\n",
    "        return sub_string.strip()\n",
    "\n",
    "def clean_and_lower(var_string):\n",
    "    \"\"\"\n",
    "    Function that calls function for cleaning\n",
    "    and returns them in lower case\n",
    "    \n",
    "    :params: var_string string to clean\n",
    "    :rtype: str\n",
    "    \"\"\"\n",
    "    var_string = strip_accents(var_string)\n",
    "    if isinstance(var_string, str):\n",
    "        return clean_strings(var_string).lower()\n",
    "\n",
    "\n",
    "def strip_accents(var_string):\n",
    "    \"\"\"\n",
    "    Function that removes accents on a string\n",
    "    \n",
    "    :params: var_string string to clean\n",
    "    :rtype: str\n",
    "    \"\"\"\n",
    "    return ''.join(c for c in unicodedata.normalize('NFD', var_string)\n",
    "                   if unicodedata.category(c) != 'Mn')"
   ]
  },
  {
   "cell_type": "markdown",
   "metadata": {
    "hideCode": false,
    "hidePrompt": true
   },
   "source": [
    "## Base de Datos\n",
    "\n",
    "El análisis se realizó para 43 programas sociales federales juntando la información de los objetivos generales y objetivos específicos para cada subprograma (DOF). Se tuvo que unir los objetivos generales y específicos de todos los subprogramas pertenecientes a cada programa para realizar el análisis a nivel programa. A continuación se muestra la base de datos que se utilizó en donde viene cada subprograma en un renglón y cada objetivo en una columna."
   ]
  },
  {
   "cell_type": "code",
   "execution_count": 27,
   "metadata": {
    "hideCode": true,
    "hidePrompt": true
   },
   "outputs": [
    {
     "data": {
      "text/html": [
       "<div>\n",
       "<table border=\"1\" class=\"dataframe\">\n",
       "  <thead>\n",
       "    <tr style=\"text-align: right;\">\n",
       "      <th></th>\n",
       "      <th>dependencia</th>\n",
       "      <th>cve_programa</th>\n",
       "      <th>cve_padron</th>\n",
       "      <th>nombre_programa</th>\n",
       "      <th>nombre_subprograma</th>\n",
       "      <th>unidad_responsable</th>\n",
       "      <th>poblacion_objetivo</th>\n",
       "      <th>tipo_de_apoyo</th>\n",
       "      <th>obj_gral_prog_1</th>\n",
       "      <th>obj_esp_prog_1</th>\n",
       "      <th>obj_esp_prog_2</th>\n",
       "      <th>obj_esp_prog_3</th>\n",
       "      <th>obj_esp_prog_4</th>\n",
       "      <th>obj_esp_prog_5</th>\n",
       "      <th>pob_obj_prog</th>\n",
       "      <th>cuaps2017</th>\n",
       "      <th>observaciones</th>\n",
       "      <th>actualizacion_sedesol</th>\n",
       "    </tr>\n",
       "  </thead>\n",
       "  <tbody>\n",
       "    <tr>\n",
       "      <th>76</th>\n",
       "      <td>ENNOSEC</td>\n",
       "      <td>S178</td>\n",
       "      <td>0092</td>\n",
       "      <td>Apoyo a la Educacion Indigena</td>\n",
       "      <td>Becas de Educacion Superior y Apoyo a Titulacion</td>\n",
       "      <td>NaN</td>\n",
       "      <td>NaN</td>\n",
       "      <td>NaN</td>\n",
       "      <td>Apoyar la permanencia en la educación de niños...</td>\n",
       "      <td>Brindar servicio de hospedaje a los beneficiar...</td>\n",
       "      <td>Brindar servicios de alimentación a los benefi...</td>\n",
       "      <td>Apoyar con alimentación y artículos de higiene...</td>\n",
       "      <td>Fomentar la permanencia, continuidad, conclusi...</td>\n",
       "      <td>NaN</td>\n",
       "      <td>Estudiantes indígenas de 5 a 29 años que se en...</td>\n",
       "      <td>SI</td>\n",
       "      <td>NaN</td>\n",
       "      <td>2017-08-04 00:00:00</td>\n",
       "    </tr>\n",
       "    <tr>\n",
       "      <th>77</th>\n",
       "      <td>ENNOSEC</td>\n",
       "      <td>S178</td>\n",
       "      <td>0085</td>\n",
       "      <td>Apoyo a la Educacion Indigena</td>\n",
       "      <td>Casa y Comedor del Nií±o Indí­gena</td>\n",
       "      <td>NaN</td>\n",
       "      <td>NaN</td>\n",
       "      <td>NaN</td>\n",
       "      <td>Apoyar la permanencia en la educación de niños...</td>\n",
       "      <td>Brindar servicio de hospedaje a los beneficiar...</td>\n",
       "      <td>Brindar servicios de alimentación a los benefi...</td>\n",
       "      <td>Apoyar con alimentación y artículos de higiene...</td>\n",
       "      <td>Fomentar la permanencia, continuidad, conclusi...</td>\n",
       "      <td>NaN</td>\n",
       "      <td>Estudiantes indígenas de 5 a 29 años que se en...</td>\n",
       "      <td>SI</td>\n",
       "      <td>NaN</td>\n",
       "      <td>2017-08-04 00:00:00</td>\n",
       "    </tr>\n",
       "    <tr>\n",
       "      <th>78</th>\n",
       "      <td>SEMARNAT</td>\n",
       "      <td>S219</td>\n",
       "      <td>0172</td>\n",
       "      <td>Apoyos para el Desarrollo Forestal Sustentable</td>\n",
       "      <td>Pago por Servicios Ambientales</td>\n",
       "      <td>NaN</td>\n",
       "      <td>NaN</td>\n",
       "      <td>NaN</td>\n",
       "      <td>Apoyar la elaboración de estudios y proyectos ...</td>\n",
       "      <td>NaN</td>\n",
       "      <td>NaN</td>\n",
       "      <td>NaN</td>\n",
       "      <td>NaN</td>\n",
       "      <td>NaN</td>\n",
       "      <td>NaN</td>\n",
       "      <td>NO</td>\n",
       "      <td>NaN</td>\n",
       "      <td>2017-08-04 00:00:00</td>\n",
       "    </tr>\n",
       "  </tbody>\n",
       "</table>\n",
       "</div>"
      ],
      "text/plain": [
       "   dependencia cve_programa cve_padron  \\\n",
       "76     ENNOSEC         S178       0092   \n",
       "77     ENNOSEC         S178       0085   \n",
       "78    SEMARNAT         S219       0172   \n",
       "\n",
       "                                   nombre_programa  \\\n",
       "76                   Apoyo a la Educacion Indigena   \n",
       "77                   Apoyo a la Educacion Indigena   \n",
       "78  Apoyos para el Desarrollo Forestal Sustentable   \n",
       "\n",
       "                                  nombre_subprograma  unidad_responsable  \\\n",
       "76  Becas de Educacion Superior y Apoyo a Titulacion                 NaN   \n",
       "77                Casa y Comedor del Nií±o Indí­gena                 NaN   \n",
       "78                    Pago por Servicios Ambientales                 NaN   \n",
       "\n",
       "    poblacion_objetivo  tipo_de_apoyo  \\\n",
       "76                 NaN            NaN   \n",
       "77                 NaN            NaN   \n",
       "78                 NaN            NaN   \n",
       "\n",
       "                                      obj_gral_prog_1  \\\n",
       "76  Apoyar la permanencia en la educación de niños...   \n",
       "77  Apoyar la permanencia en la educación de niños...   \n",
       "78  Apoyar la elaboración de estudios y proyectos ...   \n",
       "\n",
       "                                       obj_esp_prog_1  \\\n",
       "76  Brindar servicio de hospedaje a los beneficiar...   \n",
       "77  Brindar servicio de hospedaje a los beneficiar...   \n",
       "78                                                NaN   \n",
       "\n",
       "                                       obj_esp_prog_2  \\\n",
       "76  Brindar servicios de alimentación a los benefi...   \n",
       "77  Brindar servicios de alimentación a los benefi...   \n",
       "78                                                NaN   \n",
       "\n",
       "                                       obj_esp_prog_3  \\\n",
       "76  Apoyar con alimentación y artículos de higiene...   \n",
       "77  Apoyar con alimentación y artículos de higiene...   \n",
       "78                                                NaN   \n",
       "\n",
       "                                       obj_esp_prog_4 obj_esp_prog_5  \\\n",
       "76  Fomentar la permanencia, continuidad, conclusi...            NaN   \n",
       "77  Fomentar la permanencia, continuidad, conclusi...            NaN   \n",
       "78                                                NaN            NaN   \n",
       "\n",
       "                                         pob_obj_prog cuaps2017 observaciones  \\\n",
       "76  Estudiantes indígenas de 5 a 29 años que se en...        SI           NaN   \n",
       "77  Estudiantes indígenas de 5 a 29 años que se en...        SI           NaN   \n",
       "78                                                NaN       NO            NaN   \n",
       "\n",
       "   actualizacion_sedesol  \n",
       "76   2017-08-04 00:00:00  \n",
       "77   2017-08-04 00:00:00  \n",
       "78   2017-08-04 00:00:00  "
      ]
     },
     "execution_count": 27,
     "metadata": {},
     "output_type": "execute_result"
    }
   ],
   "source": [
    "# Leer archivo\n",
    "s3_file = 'https://s3-us-west-2.amazonaws.com/sedesol-open-data/cuaps_sedesol.csv'\n",
    "programas = pd.read_csv(s3_file)\n",
    "programas.tail(3)"
   ]
  },
  {
   "cell_type": "code",
   "execution_count": 28,
   "metadata": {
    "hideCode": true,
    "hidePrompt": true
   },
   "outputs": [],
   "source": [
    "# Eliminar programas sin objetivo general\n",
    "programas = programas.dropna(subset=['obj_gral_prog_1'], axis=0)\n",
    "programas['cve_padron'] = programas['cve_padron'].apply(lambda x: str(x).zfill(4))\n",
    "# Generar una columna nueva que concatene todos los objetivos generales y específicos de cada suprograma\n",
    "programas['objetivos_especificos'] = programas.apply(lambda x: obj_esp_union(x), axis=1)"
   ]
  },
  {
   "cell_type": "code",
   "execution_count": 29,
   "metadata": {
    "hideCode": true,
    "hidePrompt": true
   },
   "outputs": [],
   "source": [
    "# Juntar objetivos específicos\n",
    "df_p1 = programas.groupby(['cve_programa'])['objetivos_especificos'].apply(lambda x: \" \".join(set(x)))\n",
    "# Juntar nombres del programa\n",
    "df_p2 = programas.groupby(['cve_programa'])['nombre_programa'].apply(lambda x: \" \".join(set(x)))\n",
    "# Juntar objetivos generales\n",
    "df_p3 = programas.groupby(['cve_programa'])['obj_gral_prog_1'].apply(lambda x: \" \".join(set(x)))\n",
    "\n",
    "# Unir todo\n",
    "df_p = pd.concat([df_p1, df_p2, df_p3], axis=1)\n",
    "df_p = df_p.reset_index()\n",
    "# Generar columna descripción que una todos los objetivos\n",
    "df_p['descripcion'] = df_p['nombre_programa'] + ' ' + df_p['obj_gral_prog_1'] + ' ' + df_p['objetivos_especificos']\n",
    "df_p.set_index('cve_programa', inplace=True)"
   ]
  },
  {
   "cell_type": "markdown",
   "metadata": {
    "hidePrompt": true
   },
   "source": [
    "### Procesamiento de Texto\n",
    "\n",
    "El primer paso que se hizo para trabajar con el texto de los objetivos de los programas fue realizar limpieza y procesamiento. Esto incluye generar el corpus del texto, tokenizar, es decir, separar el texto en palabras y remover palabras que no tengan significado semántico o se repitan muchas veces. De esta manera, se transformó el texto en datos que el algoritmo o modelo pueda utilizar. Éste procedimiento se realizó siguiendo los siguientes pasos:\n",
    "\n",
    "1. Limpiar y normalizar el texto, removiendo los caracteres especiales como signos, números y puntuación, para dejar únicamente las palabras en minúsculas para asegurarse que se dé el mismo trato a todas las palabras. La limpieza se realizó utilizando expresiones regulares, el cual es un método que dada reglas dadas encuentra los patrones en el texto para hacer cambios, eliminar o sustituir en textos. \n",
    "2. Después de limpiar caracteres, se dividió el texto en palabras, términos útiles o grupos de palabras separado normalmente por espacios. Este proceso es conocido como tokenizar.\n",
    "3. Se normalizaron las palabras a su raíz o su forma más básica, puede realizarse de forma sencilla eliminando sufijos y prefijos o puede hacer uso de métodos más elaborados que consideran distintas conjugaciones de una misma palabra / verbo. Este proceso es conocido como stemming.\n",
    "4. Se eliminaron palabras que no tienen un significado semántico pero ocurren con mucha frecuencia, también se pueden eliminar palabras que en un contexto específico ocurran muchas veces y generen ruido para la clasificación.\n",
    "\n",
    "En el preprocesamiento para la limpieza y normalización, cada paso es opcional y se compararon los resultados con los diferentes métodos. Al final se optó por utilizar palabras sin normalizar ya que se perdía información y coherencia en los resultados.\n",
    "\n",
    "\n",
    "En el siguiente ejemplo se muestra el tipo de limpieza y procesamiento realizado:"
   ]
  },
  {
   "cell_type": "markdown",
   "metadata": {
    "hidePrompt": true
   },
   "source": [
    "** Ejemplo**:\n",
    "\n",
    "Texto **antes** del procesamiento"
   ]
  },
  {
   "cell_type": "code",
   "execution_count": 9,
   "metadata": {
    "hideCode": true,
    "hidePrompt": true
   },
   "outputs": [
    {
     "data": {
      "text/plain": [
       "'Empleo Temporal Contribuir a dotar de esquemas de seguridad social que protejan el bienestar socioeconómico de la población en situación de carencia o pobreza, mediante la mitigación del impacto económico y social de las personas de 16 años de edad o más que ven disminuidos sus ingresos o patrimonio ocasionado por situaciones económicas y sociales adversas, emergencias o desastres. Contribuir a dotar de esquemas de seguridad social que protejan el bienestar socioeconómico de la población en situación de carencia o pobreza, mediante la mitigación del impacto económico y social de las personas de 16 años de edad o más que ven disminuidos sus ingresos o patrimonio ocasionado por situaciones económicas y sociales adversas, emergencias o desastres.    Contribuir a dotar de esquemas de seguridad social que protejan el bienestar socioeconómico de la población en situación de carencia o pobreza, mediante la mitigación del impacto económico y social de las personas de 16 años de edad o más que ven disminuidos sus ingresos o patrimonio ocasionado por situaciones económicas y sociales adversas, emergencias o desastres.  Mitigar el impacto económico y social de las personas de 16 años de edad o más que vean disminuidos sus ingresos o su patrimonio ocasionado por situaciones sociales y económicas adversas, emergencias o desastres. nan nan nan nan Mujeres y hombres de 16 años de edad en adelante que ven afectado su patrimonio o enfrentan una disminución temporal en su ingreso por baja demanda de mano de obra o por los efectos de situaciones sociales y económicas adversas, emergencias o desastres. \\n                       Contribuir a dotar de esquemas de seguridad social que protejan el bienestar socioeconómico de la población en situación de carencia o pobreza, mediante la mitigación del impacto económico y social de las personas de 16 años de edad o más que ven disminuidos sus ingresos o patrimonio ocasionado por situaciones económicas y sociales adversas, emergencias o desastres. Mitigar el impacto económico y social de las personas de 16 años de edad o más que vean disminuidos sus  ingresos  o  su  patrimonio  ocasionado  por  situaciones  sociales  y  económicas  adversas,  emergencias o desastres. nan nan nan nan Mujeres y hombres de 16 años de edad en adelante que ven afectado su patrimonio o enfrentan una disminución temporal en su ingreso por baja demanda de mano de obra o por los efectos de situaciones sociales y económicas adversas, emergencias o desastres. \\n                    '"
      ]
     },
     "execution_count": 9,
     "metadata": {},
     "output_type": "execute_result"
    }
   ],
   "source": [
    "df_p['descripcion'].loc['S071']"
   ]
  },
  {
   "cell_type": "markdown",
   "metadata": {},
   "source": [
    "Texto **después** del procesamiento"
   ]
  },
  {
   "cell_type": "code",
   "execution_count": 10,
   "metadata": {
    "hideCode": true,
    "hidePrompt": true
   },
   "outputs": [
    {
     "data": {
      "text/plain": [
       "'empleo temporal contribuir a dotar de esquemas de seguridad social que protejan el bienestar socioeconomico de la poblacion en situacion de carencia o pobreza mediante la mitigacion del impacto economico y social de las personas de anos de edad o mas que ven disminuidos sus ingresos o patrimonio ocasionado por situaciones economicas y sociales adversas emergencias o desastres contribuir a dotar de esquemas de seguridad social que protejan el bienestar socioeconomico de la poblacion en situacion de carencia o pobreza mediante la mitigacion del impacto economico y social de las personas de anos de edad o mas que ven disminuidos sus ingresos o patrimonio ocasionado por situaciones economicas y sociales adversas emergencias o desastres contribuir a dotar de esquemas de seguridad social que protejan el bienestar socioeconomico de la poblacion en situacion de carencia o pobreza mediante la mitigacion del impacto economico y social de las personas de anos de edad o mas que ven disminuidos sus ingresos o patrimonio ocasionado por situaciones economicas y sociales adversas emergencias o desastres mitigar el impacto economico y social de las personas de anos de edad o mas que vean disminuidos sus ingresos o su patrimonio ocasionado por situaciones sociales y economicas adversas emergencias o desastres nan nan nan nan mujeres y hombres de anos de edad en adelante que ven afectado su patrimonio o enfrentan una disminucion temporal en su ingreso por baja demanda de mano de obra o por los efectos de situaciones sociales y economicas adversas emergencias o desastres contribuir a dotar de esquemas de seguridad social que protejan el bienestar socioeconomico de la poblacion en situacion de carencia o pobreza mediante la mitigacion del impacto economico y social de las personas de anos de edad o mas que ven disminuidos sus ingresos o patrimonio ocasionado por situaciones economicas y sociales adversas emergencias o desastres mitigar el impacto economico y social de las personas de anos de edad o mas que vean disminuidos sus ingresos o su patrimonio ocasionado por situaciones sociales y economicas adversas emergencias o desastres nan nan nan nan mujeres y hombres de anos de edad en adelante que ven afectado su patrimonio o enfrentan una disminucion temporal en su ingreso por baja demanda de mano de obra o por los efectos de situaciones sociales y economicas adversas emergencias o desastres'"
      ]
     },
     "execution_count": 10,
     "metadata": {},
     "output_type": "execute_result"
    }
   ],
   "source": [
    "# Limpiar texto\n",
    "df_p['descripcion_clean'] = df_p['descripcion'].map(clean_and_lower)\n",
    "df_p['descripcion_clean'].loc['S071']"
   ]
  },
  {
   "cell_type": "markdown",
   "metadata": {
    "hideCode": false,
    "hidePrompt": true
   },
   "source": [
    "## Análisis por tópicos"
   ]
  },
  {
   "cell_type": "markdown",
   "metadata": {
    "hidePrompt": true
   },
   "source": [
    "El primer análisis que se realizó con los programas una vez procesado el texto fue de tópicos que es un modelo estadístico no paramétrico y una rama del procesamiento de lenguaje natural. Éste método se aplica al texto para encontrar tópicos para explorar la información. Los tópicos son distribuciones de probabilidad sobre las palabras. Dicho modelo se conoce como Latent Dirichlet allocation (LDA) el cual permite explicar un conjunto de observaciones por medio de grupos no observables que explican similitudes entre los conjuntos de datos. Un tópico tiene probabilidades de generarse por diferentes palabras que son clasificadas e interpretadas como relacionadas a un tópico, en donde palabras sin relevancia semántica o con mucha ocurrencia tendrán probabilidades similares entre clases. Una palabra puede ocurrir en más de un tópico con diferentes probabilidades pero con diferente conjunto de palabras vecinas que darán un sentido distinto. Un solo documento puede estar presente en más de un tópico.\n",
    "\n",
    "De esta manera para poder encontrar el número de tópicos con sentido, se realizó ua búsqueda por diferentes números de tópicos y explorando la coherencia de los tópicos que se mide comparando los subconjuntos de palabras con mayor probabilidad en cada tópico.\n"
   ]
  },
  {
   "cell_type": "code",
   "execution_count": 11,
   "metadata": {
    "hideCode": true,
    "hideOutput": true,
    "hidePrompt": true
   },
   "outputs": [],
   "source": [
    "def gen_corpus(fname, tokens_only=False, stemming=True):\n",
    "    \"\"\"\n",
    "    Function generates gensim corpus\n",
    "    \n",
    "    Parameters:\n",
    "    ----------\n",
    "    fname : text\n",
    "    tokens_only (bool): return only tokens\n",
    "    stemming (bool): for stemming the words\n",
    "    \n",
    "    Returns:\n",
    "    -------\n",
    "    corpus: matrix\n",
    "    \"\"\"\n",
    "    stemmer = nltk.SnowballStemmer(\"spanish\")\n",
    "    \n",
    "    for i, line in enumerate(fname['descripcion_clean']):\n",
    "        if tokens_only and stemming:\n",
    "            yield [stemmer.stem(word) for word in gensim.utils.simple_preprocess(line) if word not in stops]\n",
    "        elif tokens_only and not stemming:\n",
    "            yield [word for word in gensim.utils.simple_preprocess(line) if word not in stops]\n",
    "        elif not tokens_only and stemming:\n",
    "            # For training data, add tags\n",
    "            words = [stemmer.stem(word) for word in gensim.utils.simple_preprocess(line) if word not in stops]\n",
    "            yield gensim.models.doc2vec.TaggedDocument(words, [i])\n",
    "        else:\n",
    "            words = [word for word in gensim.utils.simple_preprocess(line) if word not in stops]\n",
    "            yield gensim.models.doc2vec.TaggedDocument(words, [i])\n",
    "\n",
    "            \n",
    "def stopwords_list(stopfilename='', nltkwords=True, stemming=True):\n",
    "    \"\"\"\n",
    "    Generate a stopwords list based on a file and the nltk stopwords\n",
    "    \n",
    "    Parameters:\n",
    "    ------------\n",
    "    stopfilename (str): name of file that contains stop words \n",
    "    nltkwords (bool): to include nltk words\n",
    "    \n",
    "    Returns:\n",
    "    ---------\n",
    "    stoplist (list)\n",
    "    \"\"\"\n",
    "    stemmer = nltk.SnowballStemmer(\"spanish\")\n",
    "    \n",
    "    stoplist = []\n",
    "    if nltkwords:\n",
    "        stoplist = stoplist +  stopwords.words('spanish')\n",
    "        \n",
    "    if stopfilename:\n",
    "        stopfile = pd.read_csv(stopfilename, sep='\\t',header=None)[0].values\n",
    "        stoplist =  stoplist + list(stopfile)\n",
    "        \n",
    "    if stemming:\n",
    "        stoplist = [stemmer.stem(i) for i in stoplist]\n",
    "        \n",
    "    return stoplist    \n",
    "\n",
    "def create_corpus(matrix, stoplist=[], stemming=True):\n",
    "    \"\"\"\n",
    "    Generates corpus eliminating stop words\n",
    "    \n",
    "    Parameters:\n",
    "    -----------\n",
    "    matrix: corpus for elimintating stopwords or to stem\n",
    "    stoplist (list): list of words to remove from corpus\n",
    "    stemming (bool): \n",
    "    \"\"\"\n",
    "    if stemming:\n",
    "        stemmer = nltk.SnowballStemmer(\"spanish\")\n",
    "        corpus = [[stemmer.stem(word) for word in document.lower().split()\n",
    "                   if word not in stops] \n",
    "                 for document in matrix]\n",
    "    else:\n",
    "        corpus = [[word for word in document.lower().split()\n",
    "                   if word not in stops] \n",
    "                 for document in matrix]\n",
    "    return corpus\n",
    "        \n",
    "def evaluate_graph(dictionary, corpus, texts, limit):\n",
    "    \"\"\"\n",
    "    Function to calculate and plot coherence for the \n",
    "    number of topcis generated with LDA\n",
    "    \n",
    "    \n",
    "    Parameters:\n",
    "    ----------\n",
    "    dictionary : diccionario de gensim\n",
    "    corpus : corpus de gensim\n",
    "    limit : topic limit\n",
    "    \n",
    "    Returns:\n",
    "    -------\n",
    "    lm_list : List of LDA topic models\n",
    "    c_v : Coherence values corresponding to the LDA model with respective number of topics\n",
    "    plot of topics vs coherence\n",
    "    \"\"\"\n",
    "    c_v = []\n",
    "    u_mass = []\n",
    "    lm_list = []\n",
    "    for num_topics in range(1, limit):\n",
    "        lm = models.ldamodel.LdaModel(corpus=corpus, num_topics=num_topics, id2word=dictionary,\n",
    "                                      passes=500, iterations=10)\n",
    "        lm_list.append(lm)\n",
    "        cm1 = CoherenceModel(model=lm, texts=texts, dictionary=dictionary, coherence='c_v')\n",
    "        cm2 = CoherenceModel(model=lm, corpus=corpus, dictionary=dictionary, coherence='u_mass')\n",
    "        c_v.append(cm1.get_coherence())\n",
    "        u_mass.append(cm2.get_coherence())\n",
    "        \n",
    "    # Show graph\n",
    "    x = range(1, limit)\n",
    "    with plt.style.context('ggplot'):\n",
    "        f, ax = plt.subplots(figsize=(10, 6))\n",
    "        plt.subplot(2, 1, 2)\n",
    "        plt.plot(x, u_mass, 'g')\n",
    "        plt.xlabel('topicos')\n",
    "        plt.ylabel('U mass')\n",
    "\n",
    "        plt.show()\n",
    "    \n",
    "    return lm_list, c_v"
   ]
  },
  {
   "cell_type": "code",
   "execution_count": 12,
   "metadata": {
    "hideCode": true,
    "hideOutput": true,
    "hidePrompt": true
   },
   "outputs": [],
   "source": [
    "# Stopwords\n",
    "stops = stopwords_list('stop.txt', stemming=False)\n",
    "programas_corpus = df_p['descripcion_clean'].values\n",
    "\n",
    "# Text\n",
    "texts_p = create_corpus(programas_corpus, stops, stemming=False)\n",
    "# Dictionary\n",
    "diccionario_p = gensim.corpora.dictionary.Dictionary(texts_p)\n",
    "# Corpus\n",
    "corpus_p = [diccionario_p.doc2bow(text) for text in texts_p]"
   ]
  },
  {
   "cell_type": "code",
   "execution_count": 13,
   "metadata": {
    "hideCode": true,
    "hidePrompt": false
   },
   "outputs": [
    {
     "data": {
      "image/png": "[encoded data removed]",
      "text/plain": [
       "<matplotlib.figure.Figure at 0x7f63e802fba8>"
      ]
     },
     "metadata": {},
     "output_type": "display_data"
    }
   ],
   "source": [
    "lmlist, c_v = evaluate_graph(dictionary=diccionario_p, corpus=corpus_p, texts=texts_p, limit=10)"
   ]
  },
  {
   "cell_type": "code",
   "execution_count": 20,
   "metadata": {
    "hideCode": true,
    "hideOutput": false,
    "hidePrompt": false
   },
   "outputs": [],
   "source": [
    "# LDA MODE\n",
    "lda_p = models.ldamodel.LdaModel(corpus=corpus_p, id2word =diccionario_p, num_topics=6, passes=500, iterations=10)"
   ]
  },
  {
   "cell_type": "code",
   "execution_count": 21,
   "metadata": {
    "hideCode": true,
    "hideOutput": true,
    "hidePrompt": true
   },
   "outputs": [
    {
     "data": {
      "text/plain": [
       "[(0,\n",
       "  '0.053*\"nan\" + 0.020*\"social\" + 0.019*\"productividad\" + 0.018*\"produccion\" + 0.016*\"anos\" + 0.014*\"agricolas\" + 0.012*\"sociales\" + 0.012*\"pobreza\" + 0.011*\"vulnerabilidad\" + 0.011*\"edad\"'),\n",
       " (1,\n",
       "  '0.045*\"jovenes\" + 0.033*\"nan\" + 0.024*\"acciones\" + 0.021*\"acceso\" + 0.020*\"social\" + 0.020*\"promover\" + 0.017*\"capital\" + 0.017*\"humano\" + 0.016*\"desarrollo\" + 0.015*\"joven\"'),\n",
       " (2,\n",
       "  '0.056*\"indigenas\" + 0.041*\"indigena\" + 0.026*\"capacidades\" + 0.019*\"culturales\" + 0.019*\"publicas\" + 0.018*\"pueblos\" + 0.015*\"atencion\" + 0.013*\"acceso\" + 0.012*\"apoyo\" + 0.011*\"mujeres\"'),\n",
       " (3,\n",
       "  '0.054*\"nan\" + 0.016*\"empleo\" + 0.014*\"economicos\" + 0.013*\"productividad\" + 0.012*\"recursos\" + 0.011*\"trabajo\" + 0.011*\"acuicolas\" + 0.011*\"especie\" + 0.011*\"colocacion\" + 0.010*\"social\"'),\n",
       " (4,\n",
       "  '0.043*\"nan\" + 0.023*\"servicios\" + 0.022*\"social\" + 0.020*\"educacion\" + 0.016*\"capacidades\" + 0.016*\"salud\" + 0.012*\"acciones\" + 0.011*\"desarrollo\" + 0.010*\"familias\" + 0.010*\"alimentacion\"'),\n",
       " (5,\n",
       "  '0.039*\"nan\" + 0.022*\"indigena\" + 0.022*\"desarrollo\" + 0.020*\"vivienda\" + 0.017*\"condiciones\" + 0.015*\"acciones\" + 0.014*\"alimentaria\" + 0.014*\"productivos\" + 0.013*\"grupos\" + 0.013*\"monetarios\"')]"
      ]
     },
     "execution_count": 21,
     "metadata": {},
     "output_type": "execute_result"
    }
   ],
   "source": [
    "lda_p.print_topics()"
   ]
  },
  {
   "cell_type": "code",
   "execution_count": 22,
   "metadata": {
    "hideCode": true,
    "hidePrompt": true
   },
   "outputs": [
    {
     "data": {
      "text/html": [
       "\n",
       "<link rel=\"stylesheet\" type=\"text/css\" href=\"https://cdn.rawgit.com/bmabey/pyLDAvis/files/ldavis.v1.0.0.css\">\n",
       "\n",
       "\n",
       "<div id=\"ldavis_el564621400670972020248250275943\"></div>\n",
       "<script type=\"text/javascript\">\n",
       "\n",
       "var ldavis_el564621400670972020248250275943_data = {\"plot.opts\": {\"ylab\": \"PC2\", \"xlab\": \"PC1\"}, \"mdsDat\": {\"cluster\": [1, 1, 1, 1, 1, 1], \"topics\": [1, 2, 3, 4, 5, 6], \"Freq\": [24.51138088718699, 18.210620768623677, 16.370118290791634, 15.102188653413014, 13.338728638548536, 12.466962761436157], \"x\": [-0.029008176869714797, -0.15791958786013133, 0.04090265300661165, 0.04088973731908663, -0.11526706502748592, 0.2204024394316338], \"y\": [0.0216949202830663, -0.02180954875748984, -0.2319980617829678, 0.11390768025380614, 0.07160560018075811, 0.046599409822827]}, \"topic.order\": [5, 1, 6, 2, 4, 3], \"token.table\": {\"Freq\": [0.8051905425360689, 0.7753252309949912, 0.2973216913036767, 0.0991072304345589, 0.5946433826073534, 0.22027229559337447, 0.040049508289704445, 0.10012377072426111, 0.36044557460734, 0.10012377072426111, 0.18022278730367, 0.31070013351518416, 0.25244385848108714, 0.4077939252386792, 0.01941875834469901, 0.9162652887705244, 0.7239951327208652, 0.19597612636618092, 0.5879283790985427, 0.19597612636618092, 0.29850602196361525, 0.5970120439272305, 0.9036663973936732, 0.28779555142039537, 0.7194888785509884, 0.10582069948900684, 0.7407448964230479, 0.15873104923351025, 0.8303591723129097, 0.9426185978198472, 0.8303640123390316, 0.9064211727330437, 0.6248339157026607, 0.13389298193628443, 0.22315496989380737, 0.9570753918775295, 0.5451421909130593, 0.38938727922361377, 0.18213361450953997, 0.3440301607402422, 0.2428448193460533, 0.14165947795186443, 0.10118534139418887, 0.9064211727330437, 0.9064211727330437, 0.10888348648200999, 0.21776697296401998, 0.16332522972301497, 0.054441743241004995, 0.43553394592803996, 0.4191183997849657, 0.13970613326165524, 0.09313742217443682, 0.04656871108721841, 0.27941226652331047, 0.04656871108721841, 0.9064323044111201, 0.9714826511016088, 0.915536439467195, 0.9426363358584096, 0.27919401456409876, 0.034899251820512345, 0.17449625910256172, 0.10469775546153703, 0.3838917700256358, 0.8716045145549847, 0.31248336506570223, 0.6249667301314045, 0.9714826511016088, 0.8415245092732373, 0.27783643102686373, 0.22226914482149096, 0.05556728620537274, 0.30562007412955006, 0.13891821551343186, 0.7239951327208652, 0.8632802066641558, 0.7753252309949912, 0.5711676103173419, 0.09519460171955697, 0.3331811060184494, 0.43637184690951264, 0.09917541975216196, 0.07934033580172957, 0.37686659505821546, 0.09088073153356635, 0.6361651207349645, 0.27264219460069905, 0.9237260882876388, 0.6290605838958423, 0.17973159539881206, 0.17973159539881206, 0.8124827236208864, 0.7302814935901889, 0.09888029983611166, 0.8899226985250049, 0.7753252309949912, 0.8929130948524245, 0.09921256609471384, 0.915536439467195, 0.8905706981916718, 0.8802586299436767, 0.9110708814533485, 0.9424193433987258, 0.9110708814533485, 0.6829589248522412, 0.22765297495074707, 0.8895831815400246, 0.39677756657959007, 0.4959719582244876, 0.09919439164489752, 0.915536439467195, 0.19904982404801724, 0.09952491202400862, 0.09952491202400862, 0.5971494721440518, 0.9424228765523702, 0.23709648741220254, 0.7112894622366076, 0.968037330045817, 0.7753252309949912, 0.7239951327282363, 0.9037287041290549, 0.13017366814021028, 0.7810420088412616, 0.7753252309949912, 0.8415245092732373, 0.8903236135196956, 0.7753252309949912, 0.40346051122480014, 0.582776293991378, 0.6208430516632821, 0.26607559356997806, 0.9037287041290549, 0.25257048898621315, 0.25257048898621315, 0.42095081497702186, 0.9714826511016088, 0.7753252309949912, 0.8069995709033211, 0.23953725947655696, 0.23953725947655696, 0.4790745189531139, 0.24683973962034184, 0.09873589584813673, 0.32911965282712247, 0.23038375697898572, 0.049367947924068366, 0.049367947924068366, 0.9293070697901095, 0.9064211727330437, 0.915536439467195, 0.8415245095937726, 0.9426181426392437, 0.8303591724685587, 0.9064211727330437, 0.7423431592829546, 0.21209804550941558, 0.7271357786976058, 0.2077530796278874, 0.21336780475781253, 0.37339365832617194, 0.05334195118945313, 0.37339365832617194, 0.9515142929299518, 0.3602875830537075, 0.16376708320623068, 0.32753416641246136, 0.06550683328249227, 0.06550683328249227, 0.6410348772536894, 0.20604692483154302, 0.13736461655436202, 0.9110708814533485, 0.8069995679148205, 0.8349375810475037, 0.15180683291772795, 0.7753252309949912, 0.9036663973936732, 0.06019120572242361, 0.24076482288969445, 0.7222944686690833, 0.9491973039167004, 0.923378245166851, 0.8107116134489566, 0.14740211153617394, 0.23071988940572022, 0.6921596682171607, 0.7854568711422063, 0.9155364393606445, 0.2502890805917953, 0.5631504313315394, 0.12514454029589764, 0.915536439467195, 0.8802586299436767, 0.7773069901718473, 0.19432674754296184, 0.8415245092732373, 0.8415245095937726, 0.9492044868992047, 0.8713293564510672, 0.7753252309949912, 0.9426261989756282, 0.7239951327282363, 0.23813017817382265, 0.714390534521468, 0.5522489810752859, 0.2366781347465511, 0.19723177895545926, 0.9499625500695775, 0.7567254914498553, 0.12612091524164254, 0.4202787165912846, 0.5883902032277984, 0.8632802063911518, 0.8632802066702694, 0.7753252309949912, 0.9491893671600787, 0.9714826511016088, 0.915536439467195, 0.8895831814926645, 0.7753252309949912, 0.16802958299786458, 0.403270999194875, 0.33605916599572916, 0.06721183319914584, 0.03360591659957292, 0.9255405436175496, 0.9424241075888428, 0.06896067612481889, 0.13792135224963778, 0.7585674373730078, 0.9237236510932904, 0.13017366814021028, 0.7810420088412616, 0.8905706981916718, 0.9064211727330437, 0.22607979847911733, 0.339119697718676, 0.3956396473384553, 0.5315069754575947, 0.08858449590959912, 0.39863023159319605, 0.4220624037299519, 0.5828480813413621, 0.038500879010917456, 0.19250439505458727, 0.7507671407128904, 0.8903236135196956, 0.45399309461678056, 0.2889046965743149, 0.04127209951061642, 0.20636049755308208, 0.08321526990884448, 0.4160763495442224, 0.4576839844986446, 0.9064211751775489, 0.11070607186340294, 0.7749425030438205, 0.8895831814926645, 0.8069995686045942, 0.12813373721509547, 0.38440121164528634, 0.12813373721509547, 0.2989787201685561, 0.9754551056558177, 0.9037287041290549, 0.9064211726277455, 0.8905712931946331, 0.9037287041290549, 0.8905706981916718, 0.9426181515698203, 0.9649182628415418, 0.100600006261836, 0.7645600475899536, 0.1408400087665704, 0.9064211727330437, 0.915536439467195, 0.9499625501388033, 0.8895831815400246, 0.17024261374066965, 0.25536392061100444, 0.5958491480923438, 0.7239951327208652, 0.9068983898510188, 0.9499625500695775, 0.25257040701019945, 0.25257040701019945, 0.4209506783503324, 0.8713293564510672, 0.16602971129569066, 0.3320594225913813, 0.4427458967885084, 0.8903236135196956, 0.7753252309949912, 0.7239951323975099, 0.915536439467195, 0.7753252309949912, 0.35697182538647343, 0.6247006944263285, 0.8415245092732373, 0.911070880403343, 0.8465960277683665, 0.8773504416840113, 0.9064211760212894, 0.9492044869002221, 0.13777157441436022, 0.8266294464861612, 0.9408538742514133, 0.10195231745630233, 0.06796821163753489, 0.3738251640064419, 0.1699205290938372, 0.27187284655013955, 0.26589778024675387, 0.243364070056351, 0.15773597133282008, 0.12618877706625606, 0.18026968152322295, 0.02253371019040287, 0.871329355906314, 0.8415245092732373, 0.8303591724685587, 0.9068983898454408, 0.9426185978781808, 0.6829667840440748, 0.2276555946813583, 0.27498393832651286, 0.06874598458162821, 0.6187138612346539, 0.8835681771809556, 0.9064211727330437, 0.9037287041290549, 0.8478264400581453, 0.35180082250110195, 0.07817796055580044, 0.35180082250110195, 0.2345338816674013, 0.7438538172148579, 0.10626483103069399, 0.10626483103069399, 0.7753252309949912, 0.8303591727587698, 0.3660394565552807, 0.549059184832921, 0.9037287041290549, 0.37273015951363814, 0.4066147194694234, 0.13553823982314114, 0.06776911991157057, 0.033884559955785286, 0.9426185976237752, 0.9037287041290549, 0.9037287041290549, 0.9064211792917077, 0.8465960285521311, 0.7793204243696007, 0.12988673739493345, 0.8415245092732373, 0.8905535236624469, 0.964963984618408, 0.7753252309949912, 0.9110708814533485, 0.8247513929055313, 0.1832780873123403, 0.915536439467195, 0.18104462847834274, 0.8147008281525423, 0.08025643442750165, 0.7624361270612656, 0.04012821721375082, 0.12038465164125246, 0.38816297051685783, 0.2772592646548985, 0.3327111175858781, 0.4707477473665623, 0.3423619980847726, 0.12838574928178972, 0.04279524976059657, 0.13310742977427817, 0.5324297190971127, 0.026621485954855636, 0.05324297190971127, 0.26621485954855634, 0.2769040071031249, 0.7199504184681247, 0.9426161689426419, 0.8465960267440726, 0.23653626868501784, 0.44679072973836703, 0.13140903815834323, 0.18397265342168054, 0.9068983898454408, 0.8070069433079355, 0.3745683781271964, 0.5886074513427373, 0.4168334945178052, 0.5418835428731468, 0.134610526642036, 0.8076631598522159, 0.9068983898454408, 0.9037287041290549, 0.942622084242396, 0.9499625501388033, 0.7753252309949912, 0.7753252309949912, 0.9079598984200803, 0.7861700954780808, 0.13102834924634682, 0.7753252309949912, 0.9037287041290549, 0.915536439467195, 0.9037287041290549, 0.8303591723129097, 0.6304798068003902, 0.34389807643657644, 0.9219940404366258, 0.35559094398569613, 0.3911500383842657, 0.21335456639141767, 0.5839250581087776, 0.2007242387248923, 0.09123829032949651, 0.0364953161317986, 0.10948594839539581, 0.9155364388634505, 0.7753252309949912, 0.7451239334190448, 0.2128925524054414, 0.3623341241745345, 0.25363388692217415, 0.07246682483490689, 0.20532267036556953, 0.0966224331132092, 0.0241556082783023, 0.2536006908851805, 0.3043208290622166, 0.0507201381770361, 0.22824062179666244, 0.12680034544259025, 0.02536006908851805, 0.07844797024985972, 0.8629276727484569, 0.7423431592829546, 0.21209804550941558, 0.9064211727330437, 0.8415245095937726, 0.8303591723129097, 0.710998494296016, 0.236999498098672, 0.915536439467195, 0.9036670427318083, 0.8303591723129097, 0.8895831814926645, 0.7239924262978342, 0.9426123951239092, 0.9110708814533485, 0.8895831814914392, 0.9492044868992047, 0.9037287041290549, 0.34703875139308893, 0.06940775027861779, 0.5552620022289423, 0.8415245092732373, 0.8835681771809556, 0.9492044868992047, 0.14634855660307444, 0.7317427830153722, 0.9426185976237752, 0.1541008870924289, 0.7705044354621444, 0.9730411639171732, 0.757500616948833, 0.1377273848997878, 0.0688636924498939], \"Term\": [\"abasto\", \"abierto\", \"acceda\", \"acceda\", \"acceda\", \"acceso\", \"acceso\", \"acceso\", \"acceso\", \"acceso\", \"acceso\", \"acciones\", \"acciones\", \"acciones\", \"acciones\", \"acompanamiento\", \"actividad\", \"acuerdo\", \"acuerdo\", \"acuerdo\", \"acuicolas\", \"acuicolas\", \"adversas\", \"agricola\", \"agricola\", \"agricolas\", \"agricolas\", \"agricolas\", \"agricultura\", \"agropecuarios\", \"agua\", \"alfabetizacion\", \"alimentacion\", \"alimentacion\", \"alimentacion\", \"alimentaria\", \"alta\", \"alta\", \"anos\", \"anos\", \"anos\", \"anos\", \"anos\", \"aplicables\", \"apoyandose\", \"apoyo\", \"apoyo\", \"apoyo\", \"apoyo\", \"apoyo\", \"apoyos\", \"apoyos\", \"apoyos\", \"apoyos\", \"apoyos\", \"apoyos\", \"artesanos\", \"artisticas\", \"asociaciones\", \"asociados\", \"atencion\", \"atencion\", \"atencion\", \"atencion\", \"atencion\", \"baja\", \"basicos\", \"basicos\", \"beneficiados\", \"beneficiar\", \"bienestar\", \"bienestar\", \"bienestar\", \"bienestar\", \"bienestar\", \"buscadora\", \"buscadores\", \"cafe\", \"calidad\", \"calidad\", \"calidad\", \"capacidades\", \"capacidades\", \"capacidades\", \"capacidades\", \"capacitacion\", \"capacitacion\", \"capacitacion\", \"capital\", \"carencia\", \"carencia\", \"carencia\", \"casa\", \"casas\", \"centros\", \"centros\", \"cielo\", \"civil\", \"civil\", \"civiles\", \"colectivos\", \"colocacion\", \"comedor\", \"comerciales\", \"comunidad\", \"comunitarios\", \"comunitarios\", \"concurso\", \"condiciones\", \"condiciones\", \"condiciones\", \"conocimiento\", \"conservacion\", \"conservacion\", \"conservacion\", \"conservacion\", \"consolidacion\", \"construccion\", \"construccion\", \"consumo\", \"controla\", \"convenios\", \"corto\", \"crear\", \"crear\", \"csp\", \"cualquier\", \"cuidado\", \"cultivos\", \"culturales\", \"culturales\", \"cumplimiento\", \"cumplimiento\", \"cursos\", \"debajo\", \"debajo\", \"debajo\", \"decisiones\", \"dedican\", \"demas\", \"derecho\", \"derecho\", \"derecho\", \"desarrollo\", \"desarrollo\", \"desarrollo\", \"desarrollo\", \"desarrollo\", \"desarrollo\", \"desastres\", \"determinen\", \"difusion\", \"dignas\", \"dimensiones\", \"disminuidos\", \"disposiciones\", \"dotar\", \"dotar\", \"economia\", \"economia\", \"economicas\", \"economicas\", \"economicas\", \"economicas\", \"economicos\", \"edad\", \"edad\", \"edad\", \"edad\", \"edad\", \"educacion\", \"educacion\", \"educacion\", \"educativas\", \"educativo\", \"educativos\", \"educativos\", \"eficiencia\", \"emergencias\", \"empleo\", \"empleo\", \"empleo\", \"emprendedor\", \"emprendedores\", \"empresas\", \"empresas\", \"encuentran\", \"encuentran\", \"entorno\", \"escuelas\", \"espacios\", \"espacios\", \"espacios\", \"especializada\", \"especie\", \"esquemas\", \"esquemas\", \"establecida\", \"estandares\", \"estudian\", \"estudiantes\", \"excedentaria\", \"existentes\", \"facilitando\", \"facilitar\", \"facilitar\", \"familias\", \"familias\", \"familias\", \"favorecer\", \"financiera\", \"financiera\", \"forestal\", \"forestal\", \"forestales\", \"fortificada\", \"frijol\", \"general\", \"generar\", \"gestionar\", \"globales\", \"granos\", \"grupos\", \"grupos\", \"grupos\", \"grupos\", \"grupos\", \"habita\", \"habitacionales\", \"hombres\", \"hombres\", \"hombres\", \"humano\", \"igualdad\", \"igualdad\", \"igualitaria\", \"impartir\", \"impulsar\", \"impulsar\", \"impulsar\", \"inclusion\", \"inclusion\", \"inclusion\", \"indigena\", \"indigena\", \"indigenas\", \"indigenas\", \"indigenas\", \"infantil\", \"ingreso\", \"ingreso\", \"ingreso\", \"ingreso\", \"ingresos\", \"ingresos\", \"ingresos\", \"iniciativas\", \"inscritos\", \"inscritos\", \"insercion\", \"institucional\", \"instituciones\", \"instituciones\", \"instituciones\", \"instituciones\", \"integrantes\", \"interesados\", \"intervenciones\", \"investigacion\", \"iocp\", \"irrestricto\", \"jornalera\", \"joven\", \"jovenes\", \"jovenes\", \"jovenes\", \"juridicas\", \"jurisdiccion\", \"justicia\", \"juventud\", \"laboral\", \"laboral\", \"laboral\", \"laborales\", \"leche\", \"legal\", \"linea\", \"linea\", \"linea\", \"localidad\", \"localidades\", \"localidades\", \"localidades\", \"madres\", \"maiz\", \"marco\", \"medica\", \"mejoran\", \"mejoren\", \"mejoren\", \"mercadologica\", \"mexicana\", \"microempresarias\", \"microfinanzas\", \"migrantes\", \"mipymes\", \"monetarios\", \"monetarios\", \"movilidad\", \"mujeres\", \"mujeres\", \"mujeres\", \"mujeres\", \"mujeres\", \"nan\", \"nan\", \"nan\", \"nan\", \"nan\", \"nan\", \"nativa\", \"necesidad\", \"ocasionado\", \"ocupacion\", \"optimos\", \"organismos\", \"organismos\", \"organizaciones\", \"organizaciones\", \"organizaciones\", \"organizada\", \"organizar\", \"origen\", \"padres\", \"participacion\", \"participacion\", \"participacion\", \"participacion\", \"patrimonio\", \"patrimonio\", \"patrimonio\", \"pecuarias\", \"pension\", \"pesqueras\", \"pesqueras\", \"plazo\", \"pobreza\", \"pobreza\", \"pobreza\", \"pobreza\", \"pobreza\", \"politica\", \"posibilidades\", \"posibilitar\", \"positivamente\", \"potencien\", \"practicas\", \"practicas\", \"presentes\", \"prevencion\", \"primaria\", \"primarias\", \"priorizando\", \"privadas\", \"privadas\", \"proceso\", \"procesos\", \"procesos\", \"produccion\", \"produccion\", \"produccion\", \"produccion\", \"productiva\", \"productiva\", \"productiva\", \"productivas\", \"productivas\", \"productivas\", \"productivas\", \"productividad\", \"productividad\", \"productividad\", \"productividad\", \"productividad\", \"productivos\", \"productivos\", \"productores\", \"programas\", \"promover\", \"promover\", \"promover\", \"promover\", \"propia\", \"prospera\", \"protejan\", \"protejan\", \"publicas\", \"publicas\", \"pueblos\", \"pueblos\", \"puesto\", \"puestos\", \"realizar\", \"reconocimiento\", \"reconvierten\", \"recurrente\", \"recursos\", \"reglas\", \"reglas\", \"rentabilidad\", \"repatriados\", \"requiera\", \"retorno\", \"riego\", \"salud\", \"salud\", \"secundaria\", \"seguridad\", \"seguridad\", \"seguridad\", \"servicios\", \"servicios\", \"servicios\", \"servicios\", \"servicios\", \"silvestre\", \"siniestralidad\", \"situaciones\", \"situaciones\", \"social\", \"social\", \"social\", \"social\", \"social\", \"social\", \"sociales\", \"sociales\", \"sociales\", \"sociales\", \"sociales\", \"sociales\", \"sociedades\", \"sociedades\", \"socioeconomico\", \"socioeconomico\", \"solidaridad\", \"soluciones\", \"subsector\", \"subsidios\", \"subsidios\", \"sujeta\", \"sustentables\", \"tecnificacion\", \"tecnologicas\", \"tecnologico\", \"territorial\", \"titulacion\", \"trabajadoras\", \"trabajan\", \"trabajar\", \"trabajo\", \"trabajo\", \"trabajo\", \"turisticas\", \"turisticos\", \"tutores\", \"urbano\", \"urbano\", \"urbanomarginadas\", \"uso\", \"uso\", \"vivienda\", \"vulnerabilidad\", \"vulnerabilidad\", \"vulnerabilidad\"], \"Topic\": [5, 2, 1, 2, 6, 1, 2, 3, 4, 5, 6, 1, 3, 4, 6, 3, 5, 1, 3, 5, 2, 5, 2, 1, 2, 1, 2, 5, 2, 3, 2, 1, 1, 5, 6, 3, 2, 3, 1, 2, 4, 5, 6, 1, 1, 1, 3, 4, 5, 6, 1, 2, 3, 4, 5, 6, 1, 4, 6, 1, 1, 2, 4, 5, 6, 2, 2, 3, 4, 3, 1, 2, 3, 4, 5, 5, 5, 2, 3, 4, 5, 1, 2, 4, 6, 1, 3, 5, 4, 2, 3, 4, 6, 6, 3, 4, 2, 4, 6, 6, 4, 5, 6, 3, 6, 1, 3, 4, 1, 3, 4, 6, 1, 2, 3, 6, 3, 3, 4, 5, 2, 5, 5, 1, 3, 2, 3, 4, 2, 4, 6, 1, 5, 5, 1, 3, 5, 4, 2, 1, 1, 5, 6, 1, 2, 3, 4, 5, 6, 2, 1, 6, 3, 1, 2, 1, 2, 4, 1, 5, 1, 2, 4, 5, 5, 2, 3, 4, 5, 6, 1, 2, 6, 6, 1, 1, 6, 2, 2, 2, 4, 5, 4, 4, 3, 4, 1, 2, 3, 6, 3, 4, 6, 6, 5, 2, 4, 3, 3, 4, 6, 2, 1, 5, 1, 5, 1, 2, 3, 6, 1, 4, 1, 5, 5, 5, 2, 4, 4, 6, 4, 2, 1, 3, 4, 5, 6, 3, 3, 1, 2, 3, 4, 1, 3, 4, 1, 1, 3, 6, 1, 2, 4, 3, 6, 1, 3, 6, 4, 1, 2, 4, 5, 1, 2, 3, 1, 3, 6, 4, 1, 1, 4, 5, 6, 1, 5, 1, 4, 5, 4, 1, 4, 1, 4, 6, 1, 6, 6, 4, 1, 4, 5, 5, 5, 6, 1, 3, 5, 6, 1, 2, 3, 4, 2, 5, 6, 2, 1, 3, 3, 6, 1, 1, 1, 4, 1, 3, 5, 1, 2, 3, 5, 6, 1, 2, 3, 4, 5, 6, 6, 3, 2, 5, 3, 1, 3, 1, 3, 4, 3, 1, 5, 4, 1, 3, 4, 6, 2, 3, 6, 2, 2, 2, 5, 5, 1, 2, 3, 4, 6, 3, 5, 5, 1, 1, 2, 6, 3, 4, 1, 2, 6, 4, 5, 6, 1, 4, 1, 2, 3, 5, 1, 2, 5, 1, 3, 4, 6, 1, 2, 3, 4, 5, 1, 3, 3, 1, 1, 4, 5, 6, 5, 1, 2, 4, 4, 6, 1, 6, 5, 5, 1, 6, 2, 2, 5, 3, 4, 2, 5, 6, 5, 2, 1, 4, 1, 2, 3, 4, 1, 2, 4, 5, 6, 6, 2, 2, 5, 1, 2, 3, 4, 5, 6, 1, 2, 3, 4, 5, 6, 2, 3, 2, 4, 1, 3, 2, 3, 5, 6, 2, 2, 4, 5, 3, 6, 4, 4, 5, 1, 2, 5, 3, 3, 4, 1, 3, 3, 1, 2, 3, 2, 5, 6]}, \"R\": 30, \"lambda.step\": 0.01, \"tinfo\": {\"Total\": [51.0, 49.0, 49.0, 50.0, 19.0, 51.0, 23.0, 34.0, 22.0, 15.0, 15.0, 43.0, 14.0, 38.0, 221.0, 13.0, 37.0, 24.0, 30.0, 13.0, 11.0, 16.0, 18.0, 18.0, 21.0, 28.0, 14.0, 11.0, 24.0, 9.0, 13.327112569942257, 12.43569728122585, 9.761451381765871, 7.978567818993744, 7.087205479897451, 7.087205471322663, 7.087205464761445, 6.195790182291342, 6.195790176995561, 6.19579015934694, 6.195733557762109, 5.304374882919675, 5.304374832664833, 5.304352702513435, 5.304329548057974, 5.304272506583105, 4.412959583020182, 4.412959582507532, 4.412959582507532, 4.412959582507532, 4.412959582507532, 4.412959582507532, 4.412959582507532, 4.412959582507532, 4.412959582507532, 4.412959582507532, 4.412959570606328, 4.412959566498533, 4.412959550576328, 4.412905388007625, 13.174637541407009, 7.928899010001954, 43.67937064509987, 9.62681277015127, 34.894059671232576, 54.80155296578969, 22.40595404341363, 8.785301401981247, 8.785200305748388, 25.35088425648256, 50.41571805286968, 11.27499129006358, 82.7965074179686, 221.88978014501603, 22.577314229354638, 23.367079421060957, 24.22944342200886, 51.49659840496357, 30.243645333695817, 60.76817299787762, 29.51196655069044, 21.473645644327643, 25.582657641375494, 35.99240014364103, 49.93819113914418, 39.43206923094532, 38.049133226096494, 49.41427217724595, 28.653909405938645, 8.608564660771231, 7.746221415545809, 7.746221415545809, 7.746215883716222, 6.883856037693221, 6.021490659364713, 6.021490659364713, 6.021490659364713, 6.021490659364713, 6.021490658235997, 6.021490658235997, 6.0214906561314825, 6.021455561297298, 5.159125280711832, 5.159125280711832, 5.159125280711832, 5.159125280711832, 5.159125280711832, 5.159125280711832, 5.159125280711832, 5.159125280711832, 5.159125280711832, 5.159125280711832, 5.159125280711832, 5.159125280711832, 5.159125280711832, 5.159125280711832, 5.159125280711832, 5.159125280711832, 5.159125280711832, 5.159125280711832, 5.159125280711832, 12.978510622073257, 24.920120290251216, 14.521440318170749, 18.89989396836079, 10.291943982430103, 7.6990154657546075, 13.898755488951348, 9.394410360542427, 9.410451137038516, 37.56364320518347, 9.429601273299875, 9.429601273299875, 221.88978014501603, 8.668520105273656, 11.127704038692459, 49.41427217724595, 29.51196655069044, 82.7965074179686, 24.034050507687308, 30.531165983481166, 39.43206923094532, 28.12220099846597, 12.840686552394141, 54.80155296578969, 43.67937064509987, 18.68817660209141, 18.746970774434697, 35.99240014364103, 24.22944342200886, 19.526409266707354, 13.583046968219952, 11.884946668036406, 8.488747195217346, 8.48879010817937, 8.488758283612656, 7.639708811181569, 6.790647462138278, 6.790647462138278, 5.941597594487333, 5.941597594487333, 5.941597594487333, 5.941597594487333, 5.941597594487333, 5.941597594487333, 5.941597594487333, 5.941597592224189, 5.941597592224189, 5.941597592224189, 12.747302407123634, 5.092577513750979, 4.243497858076962, 4.243497858076962, 4.243497857194281, 4.243497856931675, 4.243508791586833, 4.24352578078945, 14.51678264185922, 13.56832666205857, 7.682045180772645, 7.682045180772645, 14.501017916210667, 7.631936185961535, 18.056799005215893, 6.8330021368929055, 8.438836436553647, 21.009594702565114, 30.243645333695817, 49.755675498252685, 60.76817299787762, 29.756664932409805, 221.88978014501603, 24.034050507687308, 12.800681403181146, 28.12220099846597, 29.425520428074886, 11.003432555234824, 11.205366125658303, 51.49659840496357, 18.069055090128714, 51.94686592565516, 23.367079421060957, 10.205324684614926, 15.156008017433566, 15.156048005732059, 13.472643746753139, 10.105879317919113, 10.105879317919113, 10.105879317919113, 10.105872566041787, 10.106074212122635, 9.264190142556314, 9.264190142556314, 9.264190142556314, 9.264190142556314, 7.58085869646531, 6.739122616640864, 6.739122616640864, 6.739122616640864, 5.89743344127967, 10.079368363936322, 10.113237941808851, 4.214055090560015, 4.214055090560015, 4.214055090560015, 4.214055090555497, 4.214086980119606, 4.214122216695047, 3.3723659150192944, 3.3723659150192944, 3.372365915203479, 3.3723659151988343, 3.3723659151988343, 10.91237926654933, 3.3723659151988343, 49.701786170731275, 11.046999940344808, 12.653076529068816, 18.68817660209141, 15.981520210718788, 14.546304138136406, 38.049133226096494, 51.49659840496357, 49.93819113914418, 23.990394561665546, 34.894059671232576, 221.88978014501603, 82.7965074179686, 60.76817299787762, 35.99240014364103, 49.41427217724595, 30.531165983481166, 29.756664932409805, 23.41303754345323, 39.43206923094532, 22.577314229354638, 25.582657641375494, 11.5605199855992, 9.912332048651805, 9.088238078974449, 9.088238078974449, 8.264144110662924, 7.440050141228916, 6.615956172317886, 6.615956172358578, 6.615956172358578, 6.615956172358578, 5.7918622034499565, 5.791862203490973, 5.791862205322594, 4.96776823458631, 4.143674265730319, 4.143674265730319, 4.143674265772507, 4.143674265772507, 4.143674265772507, 4.143674267623181, 4.143689755624415, 3.319580296933439, 3.319580296933439, 3.319580296933439, 3.319580296933439, 3.319580296933439, 3.319580296933439, 3.319580296933439, 3.319580296933439, 3.319580296933439, 3.319580296933439, 3.319580296933439, 3.319580296933439, 16.613722685861738, 8.398767494895603, 13.400064674365458, 14.407612924864772, 11.747939931459214, 11.896867013759426, 10.927783681145053, 221.88978014501603, 37.56364320518347, 18.746970774434697, 21.009594702565114, 11.877872240900475, 11.87787609606557, 18.033662486349897, 21.473645644327643, 49.41427217724595, 82.7965074179686, 49.93819113914418, 35.99240014364103, 39.43206923094532, 7.368711533920152, 7.368711533920152, 7.368711534457125, 7.368711534457125, 6.553534890967045, 6.553534890967045, 6.553534890967045, 6.553534890967045, 6.553534890967045, 6.553534890967045, 6.553534890967045, 6.553534890967045, 6.553534890967045, 6.553534890967045, 6.553534890967045, 6.553534891729747, 6.55353489528873, 5.738358248785565, 5.738358248785565, 5.738358252373175, 4.923181605848453, 14.857679038122438, 9.032928214035735, 4.1080049629239355, 3.2928283200253015, 3.2928283200253015, 3.2928283200253015, 3.2928283200253015, 3.2928283200253015, 3.2928283238202725, 51.94686592565516, 49.755675498252685, 22.30701580355005, 23.990394561665546, 10.047735583617172, 10.090081173848422, 50.41571805286968, 28.653909405938645, 18.36825826045206, 17.692867858644497, 23.41303754345323, 49.93819113914418, 29.425520428074886, 38.049133226096494, 49.701786170731275, 54.80155296578969, 25.582657641375494, 12.524147627620346, 43.67937064509987], \"Term\": [\"indigenas\", \"indigena\", \"jovenes\", \"capacidades\", \"vivienda\", \"acciones\", \"publicas\", \"salud\", \"culturales\", \"capital\", \"humano\", \"educacion\", \"pueblos\", \"promover\", \"nan\", \"joven\", \"productividad\", \"produccion\", \"condiciones\", \"alimentaria\", \"economicos\", \"empleo\", \"protejan\", \"productivos\", \"calidad\", \"seguridad\", \"monetarios\", \"habita\", \"ingresos\", \"recursos\", \"integrantes\", \"primaria\", \"secundaria\", \"microfinanzas\", \"programas\", \"microempresarias\", \"potencien\", \"educativo\", \"institucional\", \"demas\", \"prospera\", \"dimensiones\", \"jornalera\", \"realizar\", \"existentes\", \"asociados\", \"intervenciones\", \"determinen\", \"apoyandose\", \"aplicables\", \"alfabetizacion\", \"juridicas\", \"impartir\", \"disposiciones\", \"solidaridad\", \"organizar\", \"iniciativas\", \"migrantes\", \"positivamente\", \"artesanos\", \"educativos\", \"financiera\", \"educacion\", \"economia\", \"salud\", \"servicios\", \"alimentacion\", \"comunitarios\", \"organismos\", \"familias\", \"capacidades\", \"cumplimiento\", \"social\", \"nan\", \"inclusion\", \"productivas\", \"ingreso\", \"acciones\", \"condiciones\", \"desarrollo\", \"pobreza\", \"apoyos\", \"participacion\", \"bienestar\", \"acceso\", \"sociales\", \"promover\", \"anos\", \"atencion\", \"desastres\", \"adversas\", \"emergencias\", \"sustentables\", \"baja\", \"riego\", \"subsector\", \"agricultura\", \"tecnificacion\", \"ocasionado\", \"disminuidos\", \"pension\", \"agua\", \"cielo\", \"granos\", \"siniestralidad\", \"frijol\", \"maiz\", \"rentabilidad\", \"eficiencia\", \"pecuarias\", \"recurrente\", \"reconvierten\", \"primarias\", \"cafe\", \"abierto\", \"mejoran\", \"csp\", \"excedentaria\", \"dedican\", \"controla\", \"cultivos\", \"uso\", \"produccion\", \"vulnerabilidad\", \"agricolas\", \"esquemas\", \"practicas\", \"agricola\", \"situaciones\", \"patrimonio\", \"productividad\", \"socioeconomico\", \"dotar\", \"nan\", \"encuentran\", \"carencia\", \"anos\", \"pobreza\", \"social\", \"ingresos\", \"edad\", \"sociales\", \"seguridad\", \"alta\", \"servicios\", \"educacion\", \"protejan\", \"economicas\", \"bienestar\", \"ingreso\", \"vivienda\", \"alimentaria\", \"habita\", \"habitacionales\", \"comerciales\", \"consolidacion\", \"acompanamiento\", \"organizada\", \"turisticos\", \"presentes\", \"necesidad\", \"turisticas\", \"establecida\", \"beneficiar\", \"cualquier\", \"mercadologica\", \"dignas\", \"soluciones\", \"estandares\", \"sociedades\", \"entorno\", \"politica\", \"urbanomarginadas\", \"agropecuarios\", \"optimos\", \"productores\", \"territorial\", \"monetarios\", \"empresas\", \"crear\", \"igualdad\", \"hombres\", \"reglas\", \"productivos\", \"urbano\", \"subsidios\", \"calidad\", \"condiciones\", \"indigena\", \"desarrollo\", \"grupos\", \"nan\", \"ingresos\", \"basicos\", \"seguridad\", \"mujeres\", \"capacitacion\", \"mejoren\", \"acciones\", \"localidades\", \"indigenas\", \"productivas\", \"acuerdo\", \"capital\", \"humano\", \"joven\", \"igualitaria\", \"colectivos\", \"irrestricto\", \"investigacion\", \"prevencion\", \"generar\", \"decisiones\", \"artisticas\", \"beneficiados\", \"emprendedores\", \"infantil\", \"cuidado\", \"madres\", \"padres\", \"civil\", \"centros\", \"trabajan\", \"tutores\", \"estudian\", \"mipymes\", \"emprendedor\", \"general\", \"concurso\", \"juventud\", \"trabajadoras\", \"tecnologicas\", \"insercion\", \"privadas\", \"globales\", \"jovenes\", \"procesos\", \"construccion\", \"protejan\", \"espacios\", \"organizaciones\", \"promover\", \"acciones\", \"acceso\", \"publicas\", \"salud\", \"nan\", \"social\", \"desarrollo\", \"bienestar\", \"anos\", \"edad\", \"grupos\", \"instituciones\", \"sociales\", \"inclusion\", \"participacion\", \"economicos\", \"recursos\", \"especie\", \"colocacion\", \"consumo\", \"movilidad\", \"leche\", \"ocupacion\", \"propia\", \"puesto\", \"fortificada\", \"buscadores\", \"forestales\", \"abasto\", \"convenios\", \"facilitando\", \"laborales\", \"actividad\", \"buscadora\", \"marco\", \"tecnologico\", \"iocp\", \"plazo\", \"corto\", \"trabajar\", \"interesados\", \"origen\", \"cursos\", \"puestos\", \"repatriados\", \"posibilitar\", \"retorno\", \"posibilidades\", \"empleo\", \"facilitar\", \"acuicolas\", \"trabajo\", \"laboral\", \"forestal\", \"pesqueras\", \"nan\", \"productividad\", \"economicas\", \"calidad\", \"debajo\", \"linea\", \"productiva\", \"apoyos\", \"anos\", \"social\", \"acceso\", \"bienestar\", \"sociales\", \"justicia\", \"reconocimiento\", \"favorecer\", \"legal\", \"sujeta\", \"difusion\", \"jurisdiccion\", \"requiera\", \"proceso\", \"gestionar\", \"conocimiento\", \"especializada\", \"civiles\", \"asociaciones\", \"medica\", \"escuelas\", \"silvestre\", \"estudiantes\", \"localidad\", \"nativa\", \"casa\", \"pueblos\", \"inscritos\", \"casas\", \"comunidad\", \"priorizando\", \"titulacion\", \"educativas\", \"comedor\", \"mexicana\", \"indigenas\", \"indigena\", \"culturales\", \"publicas\", \"conservacion\", \"acceda\", \"capacidades\", \"atencion\", \"apoyo\", \"impulsar\", \"instituciones\", \"acceso\", \"mujeres\", \"promover\", \"jovenes\", \"servicios\", \"participacion\", \"derecho\", \"educacion\"], \"Category\": [\"Default\", \"Default\", \"Default\", \"Default\", \"Default\", \"Default\", \"Default\", \"Default\", \"Default\", \"Default\", \"Default\", \"Default\", \"Default\", \"Default\", \"Default\", \"Default\", \"Default\", \"Default\", \"Default\", \"Default\", \"Default\", \"Default\", \"Default\", \"Default\", \"Default\", \"Default\", \"Default\", \"Default\", \"Default\", \"Default\", \"Topic1\", \"Topic1\", \"Topic1\", \"Topic1\", \"Topic1\", \"Topic1\", \"Topic1\", \"Topic1\", \"Topic1\", \"Topic1\", \"Topic1\", \"Topic1\", \"Topic1\", \"Topic1\", \"Topic1\", \"Topic1\", \"Topic1\", \"Topic1\", \"Topic1\", \"Topic1\", \"Topic1\", \"Topic1\", \"Topic1\", \"Topic1\", \"Topic1\", \"Topic1\", \"Topic1\", \"Topic1\", \"Topic1\", \"Topic1\", \"Topic1\", \"Topic1\", \"Topic1\", \"Topic1\", \"Topic1\", \"Topic1\", \"Topic1\", \"Topic1\", \"Topic1\", \"Topic1\", \"Topic1\", \"Topic1\", \"Topic1\", \"Topic1\", \"Topic1\", \"Topic1\", \"Topic1\", \"Topic1\", \"Topic1\", \"Topic1\", \"Topic1\", \"Topic1\", \"Topic1\", \"Topic1\", \"Topic1\", \"Topic1\", \"Topic1\", \"Topic1\", \"Topic1\", \"Topic2\", \"Topic2\", \"Topic2\", \"Topic2\", \"Topic2\", \"Topic2\", \"Topic2\", \"Topic2\", \"Topic2\", \"Topic2\", \"Topic2\", \"Topic2\", \"Topic2\", \"Topic2\", \"Topic2\", \"Topic2\", \"Topic2\", \"Topic2\", \"Topic2\", \"Topic2\", \"Topic2\", \"Topic2\", \"Topic2\", \"Topic2\", \"Topic2\", \"Topic2\", \"Topic2\", \"Topic2\", \"Topic2\", \"Topic2\", \"Topic2\", \"Topic2\", \"Topic2\", \"Topic2\", \"Topic2\", \"Topic2\", \"Topic2\", \"Topic2\", \"Topic2\", \"Topic2\", \"Topic2\", \"Topic2\", \"Topic2\", \"Topic2\", \"Topic2\", \"Topic2\", \"Topic2\", \"Topic2\", \"Topic2\", \"Topic2\", \"Topic2\", \"Topic2\", \"Topic2\", \"Topic2\", \"Topic2\", \"Topic2\", \"Topic2\", \"Topic2\", \"Topic2\", \"Topic2\", \"Topic2\", \"Topic3\", \"Topic3\", \"Topic3\", \"Topic3\", \"Topic3\", \"Topic3\", \"Topic3\", \"Topic3\", \"Topic3\", \"Topic3\", \"Topic3\", \"Topic3\", \"Topic3\", \"Topic3\", \"Topic3\", \"Topic3\", \"Topic3\", \"Topic3\", \"Topic3\", \"Topic3\", \"Topic3\", \"Topic3\", \"Topic3\", \"Topic3\", \"Topic3\", \"Topic3\", \"Topic3\", \"Topic3\", \"Topic3\", \"Topic3\", \"Topic3\", \"Topic3\", \"Topic3\", \"Topic3\", \"Topic3\", \"Topic3\", \"Topic3\", \"Topic3\", \"Topic3\", \"Topic3\", \"Topic3\", \"Topic3\", \"Topic3\", \"Topic3\", \"Topic3\", \"Topic3\", \"Topic3\", \"Topic3\", \"Topic3\", \"Topic3\", \"Topic3\", \"Topic3\", \"Topic3\", \"Topic4\", \"Topic4\", \"Topic4\", \"Topic4\", \"Topic4\", \"Topic4\", \"Topic4\", \"Topic4\", \"Topic4\", \"Topic4\", \"Topic4\", \"Topic4\", \"Topic4\", \"Topic4\", \"Topic4\", \"Topic4\", \"Topic4\", \"Topic4\", \"Topic4\", \"Topic4\", \"Topic4\", \"Topic4\", \"Topic4\", \"Topic4\", \"Topic4\", \"Topic4\", \"Topic4\", \"Topic4\", \"Topic4\", \"Topic4\", \"Topic4\", \"Topic4\", \"Topic4\", \"Topic4\", \"Topic4\", \"Topic4\", \"Topic4\", \"Topic4\", \"Topic4\", \"Topic4\", \"Topic4\", \"Topic4\", \"Topic4\", \"Topic4\", \"Topic4\", \"Topic4\", \"Topic4\", \"Topic4\", \"Topic4\", \"Topic4\", \"Topic4\", \"Topic4\", \"Topic4\", \"Topic4\", \"Topic5\", \"Topic5\", \"Topic5\", \"Topic5\", \"Topic5\", \"Topic5\", \"Topic5\", \"Topic5\", \"Topic5\", \"Topic5\", \"Topic5\", \"Topic5\", \"Topic5\", \"Topic5\", \"Topic5\", \"Topic5\", \"Topic5\", \"Topic5\", \"Topic5\", \"Topic5\", \"Topic5\", \"Topic5\", \"Topic5\", \"Topic5\", \"Topic5\", \"Topic5\", \"Topic5\", \"Topic5\", \"Topic5\", \"Topic5\", \"Topic5\", \"Topic5\", \"Topic5\", \"Topic5\", \"Topic5\", \"Topic5\", \"Topic5\", \"Topic5\", \"Topic5\", \"Topic5\", \"Topic5\", \"Topic5\", \"Topic5\", \"Topic5\", \"Topic5\", \"Topic5\", \"Topic5\", \"Topic5\", \"Topic5\", \"Topic5\", \"Topic5\", \"Topic5\", \"Topic5\", \"Topic6\", \"Topic6\", \"Topic6\", \"Topic6\", \"Topic6\", \"Topic6\", \"Topic6\", \"Topic6\", \"Topic6\", \"Topic6\", \"Topic6\", \"Topic6\", \"Topic6\", \"Topic6\", \"Topic6\", \"Topic6\", \"Topic6\", \"Topic6\", \"Topic6\", \"Topic6\", \"Topic6\", \"Topic6\", \"Topic6\", \"Topic6\", \"Topic6\", \"Topic6\", \"Topic6\", \"Topic6\", \"Topic6\", \"Topic6\", \"Topic6\", \"Topic6\", \"Topic6\", \"Topic6\", \"Topic6\", \"Topic6\", \"Topic6\", \"Topic6\", \"Topic6\", \"Topic6\", \"Topic6\", \"Topic6\", \"Topic6\", \"Topic6\", \"Topic6\", \"Topic6\", \"Topic6\", \"Topic6\", \"Topic6\"], \"Freq\": [51.0, 49.0, 49.0, 50.0, 19.0, 51.0, 23.0, 34.0, 22.0, 15.0, 15.0, 43.0, 14.0, 38.0, 221.0, 13.0, 37.0, 24.0, 30.0, 13.0, 11.0, 16.0, 18.0, 18.0, 21.0, 28.0, 14.0, 11.0, 24.0, 9.0, 12.628383044707839, 11.736968029160037, 9.062722129422367, 7.279272076934491, 6.388476189009747, 6.388476044013602, 6.388475803647169, 5.497060926614593, 5.497060836933182, 5.497060608868102, 5.495416913385918, 4.6056456339763665, 4.60564431458359, 4.605002775481442, 4.604330228453367, 4.603128471244839, 3.7142303327731065, 3.714230324454624, 3.714230324454624, 3.714230324454624, 3.714230324454624, 3.714230324454624, 3.714230324454624, 3.714230324454624, 3.714230324454624, 3.714230324454624, 3.714230167953953, 3.7142300424375856, 3.7142295498619498, 3.7130902086179915, 10.845579269806983, 6.388554325779654, 27.96484667722302, 7.279945133263582, 22.03427263838823, 31.558924378218528, 13.51968451431816, 6.388396014004848, 6.387139145740079, 13.565899707293674, 22.236688996037103, 7.279820270013155, 29.927317313296026, 59.32824819064025, 11.737083810487484, 10.901407798564119, 10.845347794521338, 16.305020635264356, 11.736575613594553, 14.97411104697372, 10.85953015580481, 9.044366574485112, 9.062542544008128, 9.936785061936252, 10.704819146995925, 9.729453048966818, 8.846114393732575, 9.07585967948253, 7.573390908646131, 7.903516331074557, 7.042650500662113, 7.042650500662113, 7.04181576910528, 6.180285151506678, 5.317919784479799, 5.317919784479799, 5.317919784479799, 5.317919784479799, 5.317919742094687, 5.317919742094687, 5.317919662113329, 5.315545704813882, 4.455554405272491, 4.455554405272491, 4.455554405272491, 4.455554405272491, 4.455554405272491, 4.455554405272491, 4.455554405272491, 4.455554405272491, 4.455554405272491, 4.455554405272491, 4.455554405272491, 4.455554405272491, 4.455554405272491, 4.455554405272491, 4.455554405272491, 4.455554405272491, 4.455554405272491, 4.455554405272491, 4.455554405272491, 10.49219820035147, 18.886466281223445, 11.354981980540572, 13.952247444595823, 7.903556869709899, 6.17851673112971, 9.636373816796777, 7.0426731738843324, 7.04283374679466, 19.90133997843335, 7.042713371069165, 7.042713371069165, 53.73225143013398, 6.125501173063278, 7.0429357378511135, 16.515579111837315, 12.163206136913054, 20.589561136502457, 10.270885365132491, 11.354426576341746, 12.272699894175098, 10.32448551660111, 7.051780327622757, 10.583520248329362, 9.453251971152872, 7.042479790721528, 7.043058538284815, 7.563921854747084, 7.042682998761894, 18.819939040473702, 12.877226966376593, 11.179156559061328, 7.782956833760952, 7.7820967193103305, 7.781745549848539, 6.93298308674608, 6.084857352461003, 6.084857352461003, 5.235807484552112, 5.235807484552112, 5.235807484552112, 5.235807484552112, 5.235807484552112, 5.235807484552112, 5.235807484552112, 5.235807225415413, 5.235807225415413, 5.235807225415413, 11.17977077293736, 4.386158600771585, 3.5377076178289704, 3.5377076178289704, 3.5377075187962355, 3.5377074895958933, 3.5372017428021882, 3.5347138637137356, 12.029097739605621, 11.179346111830249, 6.085209359886316, 6.085209359886316, 11.179840284183413, 6.0158548399519125, 12.542776252034155, 5.236022511207836, 6.084892349974967, 11.956359404140267, 15.424959125512158, 20.518649490476914, 19.963829322808174, 12.355394684171028, 35.4629687650299, 10.96991003486946, 7.7771594126171095, 11.300983776955091, 11.180621092023891, 6.932407530945801, 6.932632277409654, 13.390453433225739, 8.228326255355167, 10.330133488609308, 7.976335901671261, 6.411254401061281, 14.44802892169347, 14.447567421735494, 12.765232796097786, 9.398862431614807, 9.398862431614807, 9.398862431614807, 9.398539367425924, 9.393444551304352, 8.557173256170596, 8.557173256170596, 8.557173256170596, 8.557173256170596, 6.8714638499256235, 6.032105670059887, 6.032105670059887, 6.032105670059887, 5.1904164939995034, 8.557223318527628, 8.55740961402558, 3.507038140784211, 3.507038140784211, 3.507038140784211, 3.5070381043085552, 3.505449662321639, 3.5037125933368287, 2.665349026447839, 2.665349026447839, 2.665348962858722, 2.6653489253432854, 2.6653489253432854, 8.55722994343482, 2.6653489253432854, 38.01648432499162, 8.557524016312213, 9.399659419570446, 11.082407381119028, 9.399671421962202, 8.680639163660512, 17.177212484725377, 20.569394698443933, 17.817432191090337, 10.240544603520929, 12.300219507312391, 28.344446481224388, 17.19941299378176, 13.919485025549175, 11.113837829499804, 11.92426032455813, 10.240827996484429, 9.93131616168037, 9.399235084071357, 9.460939647395694, 8.557552881225508, 8.557532817236805, 10.850570544125175, 9.202382578005373, 8.378288637132078, 8.378288637132078, 7.554194648553232, 6.73010069898375, 5.906006731501518, 5.906006729823327, 5.906006729823327, 5.906006729823327, 5.0819127622575815, 5.081912760565889, 5.081912696370993, 4.2578187928619275, 3.4337248231958575, 3.4337248231958575, 3.4337248214559857, 3.4337248214559857, 3.4337248214559857, 3.4337247565909226, 3.4329994390415917, 2.609630851184604, 2.609630851184604, 2.609630851184604, 2.609630851184604, 2.609630851184604, 2.609630851184604, 2.609630851184604, 2.609630851184604, 2.609630851184604, 2.609630851184604, 2.609630851184604, 2.609630851184604, 11.67500111105199, 5.906242503743876, 8.378295007691927, 8.37894354189527, 6.73024732629325, 6.733278624681174, 5.905993431996277, 40.3930414964134, 9.78673794378365, 6.696059663919024, 6.7309637372403675, 5.08238258995973, 5.08235537216029, 5.9063168981295, 5.90677347159744, 6.73018008766413, 7.554547917332025, 5.082266057932605, 5.082244087989679, 5.082208211965304, 6.657275885910774, 6.657275885910774, 6.657275874843339, 6.657275874843339, 5.842099242759243, 5.842099242759243, 5.842099242759243, 5.842099242759243, 5.842099242759243, 5.842099242759243, 5.842099242759243, 5.842099242759243, 5.842099242759243, 5.842099242759243, 5.842099242759243, 5.842099224971106, 5.842099153686557, 5.0269225816110525, 5.0269225816110525, 5.026922509753113, 4.211745938085528, 12.36457723768762, 7.47268911146062, 3.3965692942650434, 2.5813926498384228, 2.5813926498384228, 2.5813926498384228, 2.5813926498384228, 2.5813926498384228, 2.581392573827131, 39.26796629736695, 28.667098652598074, 13.178708336620264, 13.178695815275884, 5.842772113795424, 5.84260088156101, 18.536985950508562, 10.73407126780111, 8.28899003435812, 7.4726343510740465, 7.472767254661746, 9.231879535178203, 7.802704256302165, 6.6576159133676756, 6.657154589530074, 6.217118305448532, 5.842341145846358, 5.842195327824562, 5.842132972474395], \"loglift\": [30.0, 29.0, 28.0, 27.0, 26.0, 25.0, 24.0, 23.0, 22.0, 21.0, 20.0, 19.0, 18.0, 17.0, 16.0, 15.0, 14.0, 13.0, 12.0, 11.0, 10.0, 9.0, 8.0, 7.0, 6.0, 5.0, 4.0, 3.0, 2.0, 1.0, 1.3522, 1.3482, 1.3318, 1.3143, 1.3022, 1.3022, 1.3022, 1.2864, 1.2864, 1.2864, 1.2861, 1.2648, 1.2648, 1.2646, 1.2645, 1.2643, 1.2337, 1.2337, 1.2337, 1.2337, 1.2337, 1.2337, 1.2337, 1.2337, 1.2337, 1.2337, 1.2337, 1.2337, 1.2337, 1.2334, 1.2115, 1.19, 0.9601, 1.1266, 0.9463, 0.8542, 0.9009, 1.0874, 1.0873, 0.7808, 0.5875, 0.9686, 0.3884, 0.0869, 0.7518, 0.6436, 0.6022, 0.256, 0.4595, 0.0053, 0.4063, 0.5413, 0.3683, 0.119, -0.1341, 0.0066, -0.0529, -0.2886, 0.0754, 1.6177, 1.6079, 1.6079, 1.6078, 1.5954, 1.5789, 1.5789, 1.5789, 1.5789, 1.5789, 1.5789, 1.5789, 1.5785, 1.5565, 1.5565, 1.5565, 1.5565, 1.5565, 1.5565, 1.5565, 1.5565, 1.5565, 1.5565, 1.5565, 1.5565, 1.5565, 1.5565, 1.5565, 1.5565, 1.5565, 1.5565, 1.5565, 1.4905, 1.4259, 1.4572, 1.3996, 1.4391, 1.4832, 1.3369, 1.415, 1.4134, 1.0679, 1.4113, 1.4113, 0.285, 1.3559, 1.2458, 0.6072, 0.8168, 0.3116, 0.853, 0.714, 0.536, 0.7011, 1.1038, 0.0587, 0.1726, 0.7272, 0.7242, 0.1432, 0.4676, 1.7729, 1.7564, 1.7485, 1.7229, 1.7228, 1.7228, 1.7126, 1.7, 1.7, 1.6833, 1.6833, 1.6833, 1.6833, 1.6833, 1.6833, 1.6833, 1.6833, 1.6833, 1.6833, 1.6785, 1.6604, 1.6278, 1.6278, 1.6278, 1.6278, 1.6277, 1.627, 1.6217, 1.616, 1.5767, 1.5767, 1.5496, 1.5718, 1.4453, 1.5435, 1.4827, 1.246, 1.1364, 0.9239, 0.6966, 0.9308, -0.024, 1.0254, 1.3114, 0.898, 0.842, 1.3477, 1.3296, 0.4627, 1.0231, 0.1946, 0.7349, 1.3449, 1.8425, 1.8425, 1.8364, 1.8178, 1.8178, 1.8178, 1.8178, 1.8172, 1.8109, 1.8109, 1.8109, 1.8109, 1.7921, 1.7795, 1.7795, 1.7795, 1.7626, 1.7266, 1.7233, 1.7067, 1.7067, 1.7067, 1.7067, 1.7062, 1.7057, 1.6551, 1.6551, 1.6551, 1.6551, 1.6551, 1.6472, 1.6551, 1.6223, 1.635, 1.5931, 1.3678, 1.3596, 1.3741, 1.095, 0.9726, 0.8597, 1.039, 0.8476, -0.1674, 0.3188, 0.4166, 0.7152, 0.4687, 0.798, 0.793, 0.9777, 0.4629, 0.9202, 0.7952, 1.9511, 1.9402, 1.9332, 1.9332, 1.9247, 1.9142, 1.901, 1.901, 1.901, 1.901, 1.8837, 1.8837, 1.8837, 1.8603, 1.8266, 1.8266, 1.8266, 1.8266, 1.8266, 1.8266, 1.8263, 1.7739, 1.7739, 1.7739, 1.7739, 1.7739, 1.7739, 1.7739, 1.7739, 1.7739, 1.7739, 1.7739, 1.7739, 1.6617, 1.6624, 1.5449, 1.4725, 1.4574, 1.4453, 1.3992, 0.311, 0.6695, 0.985, 0.8762, 1.1656, 1.1656, 0.8983, 0.7238, 0.0209, -0.3797, -0.2705, 0.0569, -0.0343, 1.9806, 1.9806, 1.9806, 1.9806, 1.9672, 1.9672, 1.9672, 1.9672, 1.9672, 1.9672, 1.9672, 1.9672, 1.9672, 1.9672, 1.9672, 1.9672, 1.9672, 1.9497, 1.9497, 1.9497, 1.926, 1.8984, 1.8925, 1.8919, 1.8387, 1.8387, 1.8387, 1.8387, 1.8387, 1.8387, 1.8023, 1.5307, 1.5558, 1.483, 1.5399, 1.5357, 1.0816, 1.1002, 1.2864, 1.2202, 0.9401, 0.394, 0.7547, 0.339, 0.0717, -0.0943, 0.6053, 1.3195, 0.0703], \"logprob\": [30.0, 29.0, 28.0, 27.0, 26.0, 25.0, 24.0, 23.0, 22.0, 21.0, 20.0, 19.0, 18.0, 17.0, 16.0, 15.0, 14.0, 13.0, 12.0, 11.0, 10.0, 9.0, 8.0, 7.0, 6.0, 5.0, 4.0, 3.0, 2.0, 1.0, -4.6909, -4.7641, -5.0226, -5.2418, -5.3723, -5.3723, -5.3723, -5.5226, -5.5226, -5.5226, -5.5229, -5.6995, -5.6995, -5.6997, -5.6998, -5.7001, -5.9146, -5.9146, -5.9146, -5.9146, -5.9146, -5.9146, -5.9146, -5.9146, -5.9146, -5.9146, -5.9146, -5.9146, -5.9146, -5.9149, -4.8431, -5.3723, -3.8959, -5.2417, -4.1342, -3.775, -4.6227, -5.3723, -5.3725, -4.6192, -4.1251, -5.2417, -3.828, -3.1437, -4.7641, -4.8379, -4.8431, -4.4353, -4.7641, -4.5205, -4.8418, -5.0247, -5.0227, -4.9306, -4.8561, -4.9517, -5.0468, -5.0212, -5.2022, -4.8624, -4.9777, -4.9777, -4.9778, -5.1083, -5.2586, -5.2586, -5.2586, -5.2586, -5.2586, -5.2586, -5.2586, -5.259, -5.4355, -5.4355, -5.4355, -5.4355, -5.4355, -5.4355, -5.4355, -5.4355, -5.4355, -5.4355, -5.4355, -5.4355, -5.4355, -5.4355, -5.4355, -5.4355, -5.4355, -5.4355, -5.4355, -4.579, -3.9912, -4.5, -4.294, -4.8624, -5.1086, -4.6641, -4.9777, -4.9777, -3.9389, -4.9777, -4.9777, -2.9457, -5.1172, -4.9777, -4.1254, -4.4313, -3.9049, -4.6004, -4.5001, -4.4223, -4.5952, -4.9764, -4.5704, -4.6833, -4.9777, -4.9776, -4.9063, -4.9777, -3.8882, -4.2677, -4.4091, -4.7712, -4.7713, -4.7713, -4.8868, -5.0173, -5.0173, -5.1676, -5.1676, -5.1676, -5.1676, -5.1676, -5.1676, -5.1676, -5.1676, -5.1676, -5.1676, -4.409, -5.3447, -5.5596, -5.5596, -5.5596, -5.5596, -5.5598, -5.5605, -4.3358, -4.4091, -5.0173, -5.0173, -4.409, -5.0287, -4.294, -5.1676, -5.0173, -4.3419, -4.0871, -3.8018, -3.8292, -4.309, -3.2546, -4.428, -4.7719, -4.3982, -4.4089, -4.8869, -4.8869, -4.2286, -4.7155, -4.4881, -4.7466, -4.9651, -4.072, -4.072, -4.1958, -4.5019, -4.5019, -4.5019, -4.502, -4.5025, -4.5957, -4.5957, -4.5957, -4.5957, -4.8151, -4.9454, -4.9454, -4.9454, -5.0957, -4.5957, -4.5957, -5.4877, -5.4877, -5.4877, -5.4877, -5.4882, -5.4887, -5.7622, -5.7622, -5.7622, -5.7622, -5.7622, -4.5957, -5.7622, -3.1045, -4.5957, -4.5018, -4.3372, -4.5018, -4.5814, -3.8989, -3.7187, -3.8623, -4.4162, -4.2329, -3.3981, -3.8976, -4.1092, -4.3343, -4.2639, -4.4161, -4.4468, -4.5019, -4.4953, -4.5957, -4.5957, -4.2341, -4.3989, -4.4927, -4.4927, -4.5962, -4.7118, -4.8424, -4.8424, -4.8424, -4.8424, -4.9927, -4.9927, -4.9927, -5.1696, -5.3847, -5.3847, -5.3847, -5.3847, -5.3847, -5.3847, -5.3849, -5.6591, -5.6591, -5.6591, -5.6591, -5.6591, -5.6591, -5.6591, -5.6591, -5.6591, -5.6591, -5.6591, -5.6591, -4.1609, -4.8423, -4.4927, -4.4926, -4.7117, -4.7113, -4.8424, -2.9197, -4.3373, -4.7168, -4.7116, -4.9926, -4.9926, -4.8423, -4.8422, -4.7117, -4.5962, -4.9926, -4.9926, -4.9926, -4.655, -4.655, -4.655, -4.655, -4.7857, -4.7857, -4.7857, -4.7857, -4.7857, -4.7857, -4.7857, -4.7857, -4.7857, -4.7857, -4.7857, -4.7857, -4.7857, -4.9359, -4.9359, -4.9359, -5.1129, -4.0359, -4.5395, -5.328, -5.6024, -5.6024, -5.6024, -5.6024, -5.6024, -5.6024, -2.8803, -3.195, -3.9722, -3.9722, -4.7855, -4.7856, -3.631, -4.1773, -4.4358, -4.5395, -4.5395, -4.3281, -4.4963, -4.655, -4.6551, -4.7234, -4.7856, -4.7856, -4.7857]}};\n",
       "\n",
       "function LDAvis_load_lib(url, callback){\n",
       "  var s = document.createElement('script');\n",
       "  s.src = url;\n",
       "  s.async = true;\n",
       "  s.onreadystatechange = s.onload = callback;\n",
       "  s.onerror = function(){console.warn(\"failed to load library \" + url);};\n",
       "  document.getElementsByTagName(\"head\")[0].appendChild(s);\n",
       "}\n",
       "\n",
       "if(typeof(LDAvis) !== \"undefined\"){\n",
       "   // already loaded: just create the visualization\n",
       "   !function(LDAvis){\n",
       "       new LDAvis(\"#\" + \"ldavis_el564621400670972020248250275943\", ldavis_el564621400670972020248250275943_data);\n",
       "   }(LDAvis);\n",
       "}else if(typeof define === \"function\" && define.amd){\n",
       "   // require.js is available: use it to load d3/LDAvis\n",
       "   require.config({paths: {d3: \"https://cdnjs.cloudflare.com/ajax/libs/d3/3.5.5/d3.min\"}});\n",
       "   require([\"d3\"], function(d3){\n",
       "      window.d3 = d3;\n",
       "      LDAvis_load_lib(\"https://cdn.rawgit.com/bmabey/pyLDAvis/files/ldavis.v1.0.0.js\", function(){\n",
       "        new LDAvis(\"#\" + \"ldavis_el564621400670972020248250275943\", ldavis_el564621400670972020248250275943_data);\n",
       "      });\n",
       "    });\n",
       "}else{\n",
       "    // require.js not available: dynamically load d3 & LDAvis\n",
       "    LDAvis_load_lib(\"https://cdnjs.cloudflare.com/ajax/libs/d3/3.5.5/d3.min.js\", function(){\n",
       "         LDAvis_load_lib(\"https://cdn.rawgit.com/bmabey/pyLDAvis/files/ldavis.v1.0.0.js\", function(){\n",
       "                 new LDAvis(\"#\" + \"ldavis_el564621400670972020248250275943\", ldavis_el564621400670972020248250275943_data);\n",
       "            })\n",
       "         });\n",
       "}\n",
       "</script>"
      ],
      "text/plain": [
       "<IPython.core.display.HTML object>"
      ]
     },
     "execution_count": 22,
     "metadata": {},
     "output_type": "execute_result"
    }
   ],
   "source": [
    "vis_data_p = gensimvis.prepare(lda_p, corpus_p, diccionario_p)\n",
    "pyLDAvis.display(vis_data_p)\n",
    "#pyLDAvis.save_html(vis_data_p,'vis.html')"
   ]
  },
  {
   "cell_type": "markdown",
   "metadata": {},
   "source": [
    "Con este algoritmo fue capaz de identificar seis diferentes tópicos, con coherencia semántica suficente los cuales nombramos de la siguiente manera de acuerdo a las palabras que resultaron en cada tópico:\n",
    "1. Educación y finanzas\n",
    "2. Fortalecimiento agrícola y prevención de desastres\n",
    "3. Servicios de vivienda y alimentación\n",
    "4. Capital humano\n",
    "5. Recursos económicos\n",
    "6. Gestión jurídica"
   ]
  },
  {
   "cell_type": "code",
   "execution_count": 33,
   "metadata": {
    "hideCode": true,
    "hidePrompt": true
   },
   "outputs": [],
   "source": [
    "#import numpy as np\n",
    "#import json\n",
    "def add_topics_names(tlist, tnames, json_data):\n",
    "    data1=json_data\n",
    "    atop = len(data1['mdsDat']['topics'])\n",
    "    assigned_names= np.arange(1, atop+1).tolist()\n",
    "    for i,j in enumerate(tlist):\n",
    "        assigned_names[j]=tnames[i]\n",
    "    data1['mdsDat']['topic.names']=assigned_names\n",
    "    return data1\n",
    "\n",
    "#ldavis preffs\n",
    "#topics_to_name = [0,1,2,3,4,5]\n",
    "#topics_names = [\"Apoyo a la juventud\", \"Educación\", \"Fortalecimiento Agrícola\", \"Microeconomía\", \"Gestión Jurídica\", \"Apoyo a viviendas\"]\n",
    "\n",
    "#loading saved json file\n",
    "#with open('topicos.json') as data_file:    \n",
    "#    data = json.load(data_file)\n",
    "#Calling function change names\n",
    "#data=add_topics_names(topics_to_name, topics_names, data)\n",
    "#save json file\n",
    "#with open('topicos_nombres.json', 'w') as fp:\n",
    "#    json.dump(data, fp)"
   ]
  },
  {
   "cell_type": "markdown",
   "metadata": {
    "hideCode": false,
    "hidePrompt": true
   },
   "source": [
    "## Similitud"
   ]
  },
  {
   "cell_type": "markdown",
   "metadata": {},
   "source": [
    "Por otro lado, para encontrar la similitud entre programas, es decir, generar medidas de distancia entre programas sociales de acuerdo al contenido de sus objetivos se utilizó un algoritmo llamado doc2vec. Es un algoritmo no supervisado para generar vectorares a partir de oraciones, palabras o documentos, es una representación numérica del documento. Los vectores generados a partir de doc2vec pueden ser utilizados para encontrar similitudes entre documentos. De esta manera, se genera un algoritmo que aprende de los textos de cada programa y es capaz de generar métricas de similitud entre programas como se muestra en la siguiente diagrama."
   ]
  },
  {
   "cell_type": "code",
   "execution_count": 34,
   "metadata": {
    "hideCode": false,
    "hidePrompt": true
   },
   "outputs": [],
   "source": [
    "# Test and Train Dara\n",
    "train_corpus = list(gen_corpus(df_p, stemming=False))\n",
    "test_corpus = list(gen_corpus(df_p, tokens_only=True, stemming=False))\n",
    "\n",
    "# Model\n",
    "model = gensim.models.doc2vec.Doc2Vec(size=52, min_count=2, iter=55)\n",
    "# Train model\n",
    "model.build_vocab(train_corpus)\n",
    "\n",
    "%time model.train(train_corpus, total_examples=model.corpus_count, epochs=model.iter)"
   ]
  },
  {
   "cell_type": "code",
   "execution_count": 38,
   "metadata": {
    "hideCode": false,
    "hidePrompt": true
   },
   "outputs": [],
   "source": [
    "# Generate similarity matrix\n",
    "similarities = [] \n",
    "mitad = int(round(len(train_corpus) / 2, 0))\n",
    "\n",
    "for doc_id in range(len(train_corpus)):\n",
    "    inferred_vector = model.infer_vector(train_corpus[doc_id].words)\n",
    "    sims = model.docvecs.most_similar([inferred_vector], topn= len(model.docvecs))\n",
    "    similarities.append(dict(sims))\n",
    "    \n",
    "# Get only lower matrix and replace with None's\n",
    "similarities_df = pd.DataFrame(similarities)\n",
    "similarities_df = pd.DataFrame(np.tril(similarities_df.values, k=-1))\n",
    "similarities_df.index = df_p.index\n",
    "similarities_df.columns = df_p.index\n",
    "similarities_df['nombre_programa'] = df_p['nombre_programa']\n",
    "similarities_df.replace(0, similarities_df.replace([0], [None]), inplace=True) "
   ]
  },
  {
   "cell_type": "code",
   "execution_count": 41,
   "metadata": {
    "hideCode": true,
    "hidePrompt": true
   },
   "outputs": [],
   "source": [
    "#similarities_df.to_csv('similarities_df_triangular.csv')"
   ]
  },
  {
   "cell_type": "code",
   "execution_count": 42,
   "metadata": {
    "hideCode": false,
    "hidePrompt": true
   },
   "outputs": [
    {
     "name": "stdout",
     "output_type": "stream",
     "text": [
      "Document (40): «nacional forestal desarrollo forestal promover aprovechamiento sustentable recursos forestales pais reactivar economia forestal calidad habitantes forestales mantener incrementar provision servicios ambientales reducir emisiones carbono generadas deforestacion degradacion forestal considerando modelo intervencion basado vision regional territorio efecto subsidios otorga federacion comision nacional forestal mayores mejores impactos diversos ecosistemas habitan areas forestales pais nan promover aprovechamiento sustentable recursos forestales pais reactivar economia forestal calidad habitantes forestales mantener incrementar provision servicios ambientales reducir emisiones carbono generadas deforestacion degradacion forestal considerando modelo intervencion basado vision regional territorio efecto subsidios otorga federacion comision nacional forestal mayores mejores impactos diversos ecosistemas habitan areas forestales pais nan nan nan nan nan nan»\n",
      "\n",
      "SIMILAR/DISSIMILAR DOCS PER MODEL Doc2Vec(dm/m,d52,n5,w5,mc2,s0.001,t3):\n",
      "\n",
      "MOST (26, 0.8843529224395752): «apoyos desarrollo forestal sustentable elaboracion estudios integrales desarrollo forestal proposito fundamentar justificar articular orientar secuenciar forma eficiente eficaz acciones respecto actividades conservacion restauracion produccion productividad transformacion servicios ambientales demas procesos ligados desarrollo forestal sustentable pais pago servicios ambientales elaboracion estudios integrales desarrollo forestal proposito fundamentar justificar articular orientar secuenciar forma eficiente eficaz acciones respecto actividades conservacion restauracion produccion productividad transformacion servicios ambientales demas procesos ligados desarrollo forestal sustentable pais nan nan nan nan nan nan»\n",
      "\n",
      "MEDIAN (36, 0.551142692565918): «comedores comunitarios cumplimiento efectivo sociales potencien capacidades pobreza acciones incidan positivamente alimentacion instalacion operacion comedores comunitarios nan cumplimiento efectivo sociales potencien capacidades pobreza acciones incidan positivamente alimentacion instalacion operacion comedores comunitarios incrementar acceso alimentos territorios urbanos rurales ubicados poligonos atencion determine secretaria desarrollo social instalacion operacion comedores constituidos participacion social nan nan nan nan objetivo clasifica acuerdo ubicacion geografica aquellos territorios urbanos rurales cumplen siguientes urbano ageb habitantes forman parte urbanas rural localidades mayor menor habitantes pertenecen clasificados rurales»\n",
      "\n",
      "LEAST (18, 0.025977998971939087): «inclusion social prospera cumplimiento efectivo sociales potencien capacidades pobreza acciones amplien capacidades alimentacion salud educacion mejoren acceso dimensiones bienestar esquema apoyos cumplimiento efectivo sociales potencien capacidades pobreza acciones amplien capacidades alimentacion salud educacion mejoren acceso dimensiones bienestar proporcionar apoyos familias alimentacion integrantes asegurar acceso paquete basico garantizado salud ampliacion progresiva intervenciones salud publica causes familias proposito impulsar uso servicios salud preventivos autocuidado salud nutricion integrantes enfasis vulnerable ninas ninos mujeres embarazadas periodo lactancia otorgar apoyos educativos crecientes primaria secundaria educacion media superior ninas ninos jovenes familias fin inscripcion asistencia regular escuela terminacion compromiso objetivos participacion activa integrantes familias acciones asociadas intervenciones promover atendida acceda servicios financieros condiciones preferenciales oferta institucional programas sociales fomento productivo generacion ingreso inclusion laboral incrementen capacidades productivas familias integrantes bienestar economico dimensiones acciones coordinacion vinculacion institucional objetivo incorporacion prospera inclusion social refiere hogares ingreso per capita estimado menor linea bienestar ajustada lbma cuyas condiciones socioeconomicas ingreso impiden desarrollar capacidades integrantes alimentacion salud educacion cumplimiento efectivo sociales potencien capacidades pobreza acciones amplien capacidades alimentacion salud educacion mejoren acceso dimensiones bienestar proporcionar apoyos familias alimentacion integrantes asegurar acceso paquete basico garantizado salud ampliacion progresiva intervenciones salud publica causes familias proposito impulsar uso servicios salud preventivos autocuidado salud nutricion integrantes enfasis vulnerable ninas ninos mujeres embarazadas periodo lactancia otorgar apoyos educativos crecientes primaria secundaria educacion media superior ninas ninos jovenes familias fin inscripcion asistencia regular escuela terminacion compromiso objetivos participacion activa integrantes familias acciones asociadas intervenciones promover atendida acceda servicios financieros condiciones preferenciales oferta institucional programas sociales fomento productivo generacion ingreso inclusion laboral incrementen capacidades productivas familias integrantes bienestar economico dimensiones acciones coordinacion vinculacion institucional objetivo incorporacion prospera inclusion social refiere hogares ingreso per capita estimado menor linea bienestar ajustada lbma cuyas condiciones socioeconomicas ingreso impiden desarrollar capacidades integrantes alimentacion salud educacion»\n",
      "\n"
     ]
    }
   ],
   "source": [
    "print('Document ({}): «{}»\\n'.format(doc_id, ' '.join(train_corpus[doc_id].words)))\n",
    "print(u'SIMILAR/DISSIMILAR DOCS PER MODEL %s:\\n' % model)\n",
    "for label, index in [('MOST', 1), ('MEDIAN', len(sims)//2), ('LEAST', len(sims) - 1)]:\n",
    "    print(u'%s %s: «%s»\\n' % (label, sims[index], ' '.join(train_corpus[sims[index][0]].words)))"
   ]
  },
  {
   "cell_type": "markdown",
   "metadata": {},
   "source": [
    "## Referencias\n",
    "\n",
    "- Blei et al., \"Latent Dirichlet Allocation\", 2003\n",
    "- CONEVAL, Evaluación de la Política Social 2016\n",
    "- CONEVAL, Inventario Federal de Programas y Acciones Federales de Desarrollo Social, 2014 "
   ]
  },
  {
   "cell_type": "raw",
   "metadata": {
    "collapsed": true,
    "hideCode": false,
    "hidePrompt": false
   },
   "source": [
    "<script>\n",
    "  $(document).ready(function(){\n",
    "    $('div.prompt').hide();\n",
    "    $('div.back-to-top').hide();\n",
    "    $('nav#menubar').hide();\n",
    "    $('.breadcrumb').hide();\n",
    "    $('.hidden-print').hide();\n",
    "  });\n",
    "</script>\n",
    "\n",
    "<footer id=\"attribution\" style=\"float:right; color:#999; background:#fff;\">\n",
    "Created with Jupyter, by Laboratorio de Ciencia de Datos de SEDESOL\n",
    "</footer>"
   ]
  },
  {
   "cell_type": "code",
   "execution_count": null,
   "metadata": {
    "collapsed": true,
    "hideCode": false,
    "hidePrompt": false
   },
   "outputs": [],
   "source": []
  }
 ],
 "metadata": {
  "celltoolbar": "Hide code",
  "hide_code_all_hidden": false,
  "kernelspec": {
   "display_name": "pyenv3",
   "language": "python",
   "name": "pyenv3"
  },
  "language_info": {
   "codemirror_mode": {
    "name": "ipython",
    "version": 3
   },
   "file_extension": ".py",
   "mimetype": "text/x-python",
   "name": "python",
   "nbconvert_exporter": "python",
   "pygments_lexer": "ipython3",
   "version": "3.5.2"
  }
 },
 "nbformat": 4,
 "nbformat_minor": 2
}
